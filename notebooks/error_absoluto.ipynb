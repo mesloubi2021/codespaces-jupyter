{
 "cells": [
  {
   "cell_type": "markdown",
   "metadata": {},
   "source": [
    "# ¿Qué es el error absoluto?\n",
    "\n",
    "El error absoluto es la diferencia entre el valor aproximado y el valor real o teórico de una medición o cálculo.\n",
    "\n",
    "$E_{absoluto} = |V_E - V_A|$"
   ]
  },
  {
   "cell_type": "markdown",
   "metadata": {},
   "source": [
    "## Datos\n",
    "\n",
    "- Panecillo:\n",
    "$\\\\V_E = 12,5 cm$\n",
    "$\\\\V_A = 12,6 cm$\n",
    "\n",
    "- Cirugía:\n",
    "$\\\\V_E = 0,4 cm$\n",
    "$\\\\V_A = 0,3 cm$"
   ]
  },
  {
   "cell_type": "markdown",
   "metadata": {},
   "source": [
    "## Código de Python"
   ]
  },
  {
   "cell_type": "code",
   "execution_count": 10,
   "metadata": {},
   "outputs": [
    {
     "name": "stdout",
     "output_type": "stream",
     "text": [
      "El error absoluto en medición del panecillo es: 0.1\n",
      "El error absoluto en medición de la cirugía es: 0.1\n"
     ]
    }
   ],
   "source": [
    "valor_exacto_pan = 12.5\n",
    "valor_aprox_pan = 12.6\n",
    "valor_exacto_cirugia = 0.4\n",
    "valor_aprox_cirugia = 0.3\n",
    "\n",
    "error_absoluto_pan = abs(valor_exacto_pan - valor_aprox_pan)\n",
    "error_absoluto_cirugia = abs(valor_exacto_cirugia - valor_aprox_cirugia)\n",
    "\n",
    "print('El error absoluto en medición del panecillo es: ' + \"%0.1f\" % error_absoluto_pan)\n",
    "print('El error absoluto en medición de la cirugía es: ' + \"%0.1f\" % error_absoluto_cirugia)"
   ]
  }
 ],
 "metadata": {
  "kernelspec": {
   "display_name": "Python 3",
   "language": "python",
   "name": "python3"
  },
  "language_info": {
   "codemirror_mode": {
    "name": "ipython",
    "version": 3
   },
   "file_extension": ".py",
   "mimetype": "text/x-python",
   "name": "python",
   "nbconvert_exporter": "python",
   "pygments_lexer": "ipython3",
   "version": "3.10.13"
  }
 },
 "nbformat": 4,
 "nbformat_minor": 2
}
