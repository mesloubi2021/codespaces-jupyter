{
 "cells": [
  {
   "cell_type": "code",
   "execution_count": null,
   "metadata": {},
   "outputs": [],
   "source": []
  },
  {
   "cell_type": "code",
   "execution_count": null,
   "metadata": {},
   "outputs": [],
   "source": [
    "import fitz\n",
    "import calendar\n",
    "import sys\n",
    "assert len(sys.argv) == 2, \"need start year as the one and only parameter\"\n",
    "\n",
    "startyear = sys.argv[1]\n",
    "assert startyear.isdigit(), \"year must be positive numeric\"\n",
    "startyear = int(startyear)\n",
    "assert startyear > 0, \"year must be positive numeric\"\n",
    "    \n",
    "doc = fitz.open()\n",
    "cal = calendar.LocaleTextCalendar(locale = \"de\")   # choose your locale\n",
    "w, h = fitz.PaperSize(\"a4-l\")                      # get sizes for A4 landscape paper\n",
    "\n",
    "txt = cal.formatyear(startyear, m = 4)\n",
    "doc.insertPage(-1, txt, fontsize = 12, fontname = \"Courier\", width = w, height = h)\n",
    "\n",
    "txt = cal.formatyear(startyear + 1, m = 4)\n",
    "doc.insertPage(-1, txt, fontsize = 12, fontname = \"Courier\", width = w, height = h)\n",
    "\n",
    "txt = cal.formatyear(startyear + 2, m = 4)\n",
    "doc.insertPage(-1, txt, fontsize = 12, fontname = \"Courier\", width = w, height = h)\n",
    "\n",
    "doc.save(\"Kalender.pdf\", garbage = 4, deflate = True)\n"
   ]
  }
 ],
 "metadata": {
  "language_info": {
   "name": "python"
  }
 },
 "nbformat": 4,
 "nbformat_minor": 2
}
