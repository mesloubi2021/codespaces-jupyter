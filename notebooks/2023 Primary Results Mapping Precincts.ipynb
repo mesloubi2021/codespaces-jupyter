{
 "cells": [
  {
   "cell_type": "markdown",
   "metadata": {},
   "source": [
    "## Analysis of the Aug 2023 primary results for the Bellingham mayoral race in Whatcom County"
   ]
  },
  {
   "cell_type": "markdown",
   "metadata": {},
   "source": [
    "# Background Info\n",
    "\n",
    "Good source for graph inspiration\n",
    "https://medium.com/analytics-vidhya/plotly-for-geomaps-bb75d1de189f\n",
    "\n",
    "Used https://plotly.com/python/choropleth-maps \"Choropleth map using GeoJSON\" for source of how-to\n",
    "\n",
    "1. Get shape files of Precincts from Whatcom County https://documents.co.whatcom.wa.us/WebLink/Browse.aspx?id=2951672&dbid=100&repo=WC\n",
    "\n",
    "2. Convert shape zip file to geojson using mapshaper.org\n",
    "\n",
    "*   Drag and drop shape zip onto collab via Files tab\n",
    "*   Open Console and type mapshaper -proj wg84 to convert coordinates to lat/long\n",
    "*   Export to geojson\n",
    "*   Note this json file does not have id tag which is needed to link Precinct to external csv file.  Workaroun is to use parameter 'featureidkey' to explicitly specify id\n",
    "\n",
    "3. Import csv and json data to collab or link via drive\n"
   ]
  },
  {
   "cell_type": "markdown",
   "metadata": {},
   "source": [
    "# Data Prep Instructions\n",
    "1. Get shape files of Precincts from Whatcom County https://documents.co.whatcom.wa.us/WebLink/Browse.aspx?id=2951672&dbid=100&repo=WC\n",
    "\n",
    "2. Convert shape zip file to geojson using mapshaper.org\n",
    "\n",
    "* Drag and drop shape zip onto mapshaper site\n",
    "* Open Console and type mapshaper -proj wg84 to convert coordinates to lat/long\n",
    "* Export to geojson\n",
    "\n",
    "  Note this json file does not have id tag which is needed to link Precinct to external csv file. Workaroun is to use parameter 'featureidkey' to explicitly specify id\n",
    "\n",
    "3. Import csv and json data to collab or link via drive"
   ]
  },
  {
   "cell_type": "markdown",
   "metadata": {},
   "source": [
    "## Import the raw data into dataframes"
   ]
  },
  {
   "cell_type": "code",
   "execution_count": null,
   "metadata": {
    "vscode": {
     "languageId": "plaintext"
    }
   },
   "outputs": [],
   "source": [
    "import pandas as pd\n",
    "\n",
    "#df_votes_by_precinct = pd.read_csv('/content/20230801_whatcom_123167-precincts.csv')\n",
    "df_votes_by_precinct = pd.read_csv('/content/20230801_whatcom_123167-precincts.csv', skiprows=1)\n",
    "\n",
    "#Remove the totals in row 1\n",
    "df_votes_by_precinct = df_votes_by_precinct.drop(0)\n",
    "#Add precinct name to first column\n",
    "df_votes_by_precinct.rename(columns={'Unnamed: 0': 'Precinct'}, inplace=True)\n",
    "\n",
    "#Add precinct totals column\n",
    "df_votes_by_precinct['Totals By Precinct'] = df_votes_by_precinct.iloc[:, 1:].sum(axis=1)\n",
    "\n",
    "df_votes_by_precinct"
   ]
  },
  {
   "cell_type": "markdown",
   "metadata": {},
   "source": [
    "## Add calculated columns"
   ]
  },
  {
   "cell_type": "code",
   "execution_count": null,
   "metadata": {
    "vscode": {
     "languageId": "plaintext"
    }
   },
   "outputs": [],
   "source": [
    "df_votes_by_precinct['Percent Seth Votes'] = (df_votes_by_precinct['Seth Fleetwood'] / df_votes_by_precinct['Totals By Precinct']) * 100\n",
    "df_votes_by_precinct['Percent Kim Votes'] = (df_votes_by_precinct['Kim Lund'] / df_votes_by_precinct['Totals By Precinct']) * 100\n",
    "\n",
    "\n",
    "df_votes_by_precinct['Percent SF-KL'] = ((df_votes_by_precinct['Seth Fleetwood'] - df_votes_by_precinct['Kim Lund'])/ df_votes_by_precinct['Totals By Precinct']) * 100\n",
    "\n",
    "df_votes_by_precinct['Color Group'] = pd.cut(df_votes_by_precinct['Percent SF-KL'], bins=[-100, -0.5, 15, 100], labels=['Kim', 'Neutral', 'Seth'])\n",
    "\n",
    "#df_votes_by_precinct['Kim Lund Best'] = (df_votes_by_precinct['Kim Lund'] + df_votes_by_precinct['Kristina Michele Martens'] + df_votes_by_precinct['Christopher J. McCoy']/2 + df_votes_by_precinct['Mike McAuley']/2 + df_votes_by_precinct['WRITE-IN'])\n",
    "df_votes_by_precinct['Kim Lund Best'] = (df_votes_by_precinct['Kim Lund'] + df_votes_by_precinct['Kristina Michele Martens'])\n",
    "df_votes_by_precinct['Percent Kim Best Votes'] = (df_votes_by_precinct['Kim Lund Best'] / df_votes_by_precinct['Totals By Precinct']) * 100\n",
    "df_votes_by_precinct['Percent SF-KL Best'] = ((df_votes_by_precinct['Seth Fleetwood'] - df_votes_by_precinct['Kim Lund Best'])/ df_votes_by_precinct['Totals By Precinct']) * 100\n",
    "\n",
    "df_votes_by_precinct.to_csv('/content/20230801_whatcom_123167-precincts-processed.csv')\n",
    "df_votes_by_precinct\n",
    "#df_votes_by_precinct.dtypes"
   ]
  },
  {
   "cell_type": "code",
   "execution_count": null,
   "metadata": {
    "vscode": {
     "languageId": "plaintext"
    }
   },
   "outputs": [],
   "source": [
    "import json\n",
    "\n",
    "# File path to the GeoJSON file\n",
    "# First upload json file to colab storage\n",
    "precinct_file = 'April2023_Precinct_Splits_wgs84.json'\n",
    "\n",
    "# Reading the JSON file\n",
    "with open(precinct_file, 'r') as file:\n",
    "    precinct_data = json.load(file)\n",
    "\n",
    "# Displaying the JSON data features dictionary for each precinct\n",
    "print(precinct_data)\n",
    "precinct_data[\"features\"][0]\n",
    "\n",
    "# Within features is a properties dictionary which contains the precinct id\n",
    "print(precinct_data[\"features\"][0][\"properties\"])"
   ]
  },
  {
   "cell_type": "markdown",
   "metadata": {},
   "source": [
    "## Setup Graph with integrated precinct data"
   ]
  },
  {
   "cell_type": "code",
   "execution_count": null,
   "metadata": {
    "vscode": {
     "languageId": "plaintext"
    }
   },
   "outputs": [],
   "source": [
    "import plotly.express as px\n",
    "\n",
    "# Create the choropleth map\n",
    "fig = px.choropleth_mapbox(df_votes_by_precinct, geojson=precinct_data, color=None,\n",
    "                           locations=\"Precinct\", featureidkey=\"properties.Precinct\",\n",
    "                           labels=\"Precinct\",\n",
    "                           center={\"lat\": 48.7519, \"lon\": -122.4787},\n",
    "                           mapbox_style=\"carto-positron\", zoom=10, opacity=0.1)\n",
    "\n",
    "# Adjust the marker properties for boundaries\n",
    "for trace in fig.data:\n",
    "    trace.marker.line.width = 6\n",
    "    trace.marker.line.color = 'red'\n",
    "\n",
    "# Update layout\n",
    "fig.update_layout(margin={\"r\":0,\"t\":0,\"l\":0,\"b\":0})\n",
    "fig.show()"
   ]
  },
  {
   "cell_type": "markdown",
   "metadata": {},
   "source": [
    "### Plot Kim Primary Raw Vote Results"
   ]
  },
  {
   "cell_type": "code",
   "execution_count": null,
   "metadata": {
    "vscode": {
     "languageId": "plaintext"
    }
   },
   "outputs": [],
   "source": [
    "fig = px.choropleth_mapbox(df_votes_by_precinct, geojson=precinct_data, color=\"Kim Lund\",\n",
    "                           locations=\"Precinct\", featureidkey=\"properties.Precinct\",\n",
    "                           center={\"lat\": 48.7519, \"lon\": -122.4787},\n",
    "                           mapbox_style=\"carto-positron\", zoom=10)\n",
    "\n",
    "fig.update_layout(margin={\"r\":0,\"t\":0,\"l\":0,\"b\":0})\n",
    "fig.show()"
   ]
  },
  {
   "cell_type": "code",
   "execution_count": null,
   "metadata": {
    "vscode": {
     "languageId": "plaintext"
    }
   },
   "outputs": [],
   "source": [
    "### Plot Seth Primary Raw Vote Results"
   ]
  },
  {
   "cell_type": "code",
   "execution_count": null,
   "metadata": {
    "vscode": {
     "languageId": "plaintext"
    }
   },
   "outputs": [],
   "source": [
    "fig = px.choropleth_mapbox(df_votes_by_precinct, geojson=precinct_data, color=\"Seth Fleetwood\",\n",
    "                           locations=\"Precinct\", featureidkey=\"properties.Precinct\",\n",
    "                           center={\"lat\": 48.7519, \"lon\": -122.4787},\n",
    "                           mapbox_style=\"carto-positron\", zoom=10)\n",
    "\n",
    "fig.update_layout(margin={\"r\":0,\"t\":0,\"l\":0,\"b\":0})\n",
    "fig.show()"
   ]
  },
  {
   "cell_type": "markdown",
   "metadata": {},
   "source": [
    "### Plot Seth Percent of Total"
   ]
  },
  {
   "cell_type": "code",
   "execution_count": null,
   "metadata": {
    "vscode": {
     "languageId": "plaintext"
    }
   },
   "outputs": [],
   "source": [
    "fig = px.choropleth_mapbox(df_votes_by_precinct, geojson=precinct_data, color=\"Percent Seth Votes\",\n",
    "                           locations=\"Precinct\", featureidkey=\"properties.Precinct\",\n",
    "                           center={\"lat\": 48.7519, \"lon\": -122.4787},\n",
    "                           mapbox_style=\"carto-positron\", zoom=10)\n",
    "\n",
    "fig.update_layout(margin={\"r\":0,\"t\":0,\"l\":0,\"b\":0})\n",
    "fig.show()"
   ]
  },
  {
   "cell_type": "markdown",
   "metadata": {},
   "source": [
    "### Plot Kim Percent of Total"
   ]
  },
  {
   "cell_type": "code",
   "execution_count": null,
   "metadata": {
    "vscode": {
     "languageId": "plaintext"
    }
   },
   "outputs": [],
   "source": [
    "fig = px.choropleth_mapbox(df_votes_by_precinct, geojson=precinct_data, color=\"Percent Kim Votes\",\n",
    "                           locations=\"Precinct\", featureidkey=\"properties.Precinct\",\n",
    "                           center={\"lat\": 48.7519, \"lon\": -122.4787},\n",
    "                           mapbox_style=\"carto-positron\", zoom=10)\n",
    "\n",
    "fig.update_layout(margin={\"r\":0,\"t\":0,\"l\":0,\"b\":0})\n",
    "fig.show()"
   ]
  },
  {
   "cell_type": "code",
   "execution_count": null,
   "metadata": {
    "vscode": {
     "languageId": "plaintext"
    }
   },
   "outputs": [],
   "source": [
    "#0-49.9 = Red\n",
    "#50-100 = Green\n",
    "df_votes_by_precinct['Color Group Best'] = pd.cut(df_votes_by_precinct['Percent Kim Best Votes'], bins=[0, 49.9, 100], labels=['Lost', 'Won'])"
   ]
  },
  {
   "cell_type": "code",
   "execution_count": null,
   "metadata": {
    "vscode": {
     "languageId": "plaintext"
    }
   },
   "outputs": [],
   "source": [
    "fig = px.choropleth_mapbox(df_votes_by_precinct, geojson=precinct_data, color=\"Color Group Best\",\n",
    "                           locations=\"Precinct\", featureidkey=\"properties.Precinct\",\n",
    "                           center={\"lat\": 48.7519, \"lon\": -122.4787},\n",
    "                           mapbox_style=\"carto-positron\", zoom=10)\n",
    "\n",
    "fig.update_layout(margin={\"r\":0,\"t\":0,\"l\":0,\"b\":0})\n",
    "fig.show()"
   ]
  },
  {
   "cell_type": "code",
   "execution_count": null,
   "metadata": {
    "vscode": {
     "languageId": "plaintext"
    }
   },
   "outputs": [],
   "source": [
    "fig = px.choropleth_mapbox(df_votes_by_precinct, geojson=precinct_data, color=\"Color Group\",\n",
    "                           color_discrete_map={'Kim':'blue', 'Seth':'orange', 'Neutral': 'green'},\n",
    "                           locations=\"Precinct\", featureidkey=\"properties.Precinct\",\n",
    "                           opacity=0.6,\n",
    "                           center={\"lat\": 48.7519, \"lon\": -122.4787},\n",
    "                           mapbox_style=\"carto-positron\", zoom=10)\n",
    "\n",
    "fig.update_layout(margin={\"r\":0,\"t\":0,\"l\":0,\"b\":0})\n",
    "fig.show()"
   ]
  },
  {
   "cell_type": "code",
   "execution_count": null,
   "metadata": {
    "vscode": {
     "languageId": "plaintext"
    }
   },
   "outputs": [],
   "source": [
    "#0-49.9 = Red\n",
    "#50-100 = Green\n",
    "df_votes_by_precinct['Color Group Best Diff'] = pd.cut(df_votes_by_precinct['Percent SF-KL Best'], bins=[-100, 0, 100], labels=['Won', 'Lost'])"
   ]
  },
  {
   "cell_type": "code",
   "execution_count": null,
   "metadata": {
    "vscode": {
     "languageId": "plaintext"
    }
   },
   "outputs": [],
   "source": [
    "fig = px.choropleth_mapbox(df_votes_by_precinct, geojson=precinct_data, color=\"Color Group Best Diff\",\n",
    "                           color_discrete_map={'Kim':'blue', 'Seth':'orange', 'Neutral': 'green'},\n",
    "                           locations=\"Precinct\", featureidkey=\"properties.Precinct\",\n",
    "                           opacity=0.6,\n",
    "                           center={\"lat\": 48.7519, \"lon\": -122.4787},\n",
    "                           mapbox_style=\"carto-positron\", zoom=10)\n",
    "\n",
    "fig.update_layout(margin={\"r\":0,\"t\":0,\"l\":0,\"b\":0})\n",
    "fig.show()"
   ]
  }
 ],
 "metadata": {
  "language_info": {
   "name": "python"
  },
  "orig_nbformat": 4
 },
 "nbformat": 4,
 "nbformat_minor": 2
}
