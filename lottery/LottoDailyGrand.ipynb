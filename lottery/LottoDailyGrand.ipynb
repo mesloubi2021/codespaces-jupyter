{
 "cells": [
  {
   "cell_type": "markdown",
   "id": "20c1d983-9627-4946-a1ef-11cf2145e4a5",
   "metadata": {},
   "source": [
    "## Daily Grand 规律总结\n",
    "\n",
    "- Sum mean 125 std 30 (Best between 95 ~ 155)\n",
    "\n",
    "- Top 10 Sum **[124, 118, 146, 102, 121, 122, 133]** hit almost 15% of total count \n",
    "\n",
    "- Draw Top picks **[14, 43, 17, 4, 38]**\n",
    "\n",
    "- 2022 Bonus Top picks **[2, 4, 6, 7, 1, 5, 3]**\n",
    "\n",
    "- 3个奇数 2个偶数 或者 2个奇数 3个偶数的组合最多\n",
    "\n",
    "- 新号码 至少2~3个号码 出现在最近6次抽奖中 (大概23个号码)"
   ]
  },
  {
   "cell_type": "code",
   "execution_count": 1,
   "id": "e277b205-79b8-4e75-80e6-3ca89bde4368",
   "metadata": {},
   "outputs": [],
   "source": [
    "import sys\n",
    "sys.path.append('./lib')\n",
    "import numpy\n",
    "import pandas as pd\n",
    "from lotto import Lotto\n",
    "from utils import *\n",
    "import warnings\n",
    "warnings.filterwarnings('ignore')"
   ]
  },
  {
   "cell_type": "code",
   "execution_count": 2,
   "id": "ed89e746-e7de-4bf6-a205-6e3f84f872fd",
   "metadata": {},
   "outputs": [],
   "source": [
    "pd.options.display.max_columns = None\n",
    "# pd.options.display.max_rows = 10"
   ]
  },
  {
   "cell_type": "code",
   "execution_count": 3,
   "id": "852d04f7-8786-4a5b-94de-2de1e4f57ac6",
   "metadata": {},
   "outputs": [],
   "source": [
    "lotto = Lotto('Daily Grand')"
   ]
  },
  {
   "cell_type": "code",
   "execution_count": 4,
   "id": "af2e57b7-4c11-4156-9561-4e94eca07bb1",
   "metadata": {
    "jupyter": {
     "source_hidden": true
    },
    "tags": []
   },
   "outputs": [],
   "source": [
    "# df = pd.read_csv(\"./data/DailyGrand/DailyGrand.raw.csv\", parse_dates=['Date'])"
   ]
  },
  {
   "cell_type": "code",
   "execution_count": 5,
   "id": "d21de855-43f5-4f1c-bde2-e389bb24ad8c",
   "metadata": {
    "jupyter": {
     "source_hidden": true
    },
    "tags": []
   },
   "outputs": [],
   "source": [
    "# print(\"Generate sum, bucket, divide analytics\")\n",
    "# df = lotto.build_sum_div_bucket(df)\n",
    "\n",
    "# print(\"Generate the relations between previous draws and current draws\")\n",
    "# df = lotto.get_prev_draws_analytics(df)"
   ]
  },
  {
   "cell_type": "code",
   "execution_count": 6,
   "id": "d1c8a711-9401-419a-8b5c-b9e708bb3210",
   "metadata": {},
   "outputs": [],
   "source": [
    "df = pd.read_csv(\"./data/DailyGrand/DailyGrand.analytics.csv\", parse_dates=['Date'])"
   ]
  },
  {
   "cell_type": "code",
   "execution_count": 7,
   "id": "cd310e96-0291-4b27-95aa-4561f47bb6ce",
   "metadata": {
    "jupyter": {
     "source_hidden": true
    },
    "tags": []
   },
   "outputs": [],
   "source": [
    "# df['SumNoBonus'].plot.hist(bins=100, alpha=0.5)"
   ]
  },
  {
   "cell_type": "code",
   "execution_count": 8,
   "id": "a0a386d7-c263-4c19-9633-1e7dff6e8eaf",
   "metadata": {
    "jupyter": {
     "source_hidden": true
    },
    "tags": []
   },
   "outputs": [],
   "source": [
    "# show_column_rank(df[df['Date']>'2022-01-01'], \"GrandNum\").head()"
   ]
  },
  {
   "cell_type": "code",
   "execution_count": 9,
   "id": "f7de0760-e387-41b3-b145-d3ea2015e41f",
   "metadata": {
    "jupyter": {
     "source_hidden": true
    },
    "tags": []
   },
   "outputs": [],
   "source": [
    "tests = [\n",
    "    {\n",
    "        \"name\": \"TestSum\",\n",
    "        \"des\": \"Test Sum\",\n",
    "        \"assert\": lotto.test_sum,\n",
    "        \"rule\": \"rank\",\n",
    "        \"column\": \"SumNoBonus\",\n",
    "        \"rank\": show_column_rank(df, \"SumNoBonus\"),\n",
    "        \"weight\": 1\n",
    "    },\n",
    "    {\n",
    "        \"name\": \"TestPrev3\",\n",
    "        \"desc\": \"Test with Previous 3 Draws\",\n",
    "        \"assert\": lotto.test_count_in_prev_draws(3),\n",
    "        \"rule\": \"rank\",\n",
    "        \"column\": \"Prev3\",\n",
    "        \"rank\": show_column_rank(df, \"Prev3\"),\n",
    "        \"weight\": 1\n",
    "    },\n",
    "    {\n",
    "        \"name\": \"TestPrev6\",\n",
    "        \"desc\": \"Test with Previous 6 Draws\",\n",
    "        \"assert\": lotto.test_count_in_prev_draws(6),\n",
    "        \"rule\": \"rank\",\n",
    "        \"column\": \"Prev6\",\n",
    "        \"rank\": show_column_rank(df, \"Prev6\"),\n",
    "        \"weight\": 1\n",
    "    },\n",
    "    {\n",
    "        \"name\": \"TestOnesDigit\",\n",
    "        \"desc\": \"Test Ones Digit\",\n",
    "        \"assert\": lotto.test_ones_digit,\n",
    "        \"rule\": \"rank\",\n",
    "        \"column\": \"OnesDigit\",\n",
    "        \"rank\": show_column_rank(df, \"OnesDigit\"),\n",
    "        \"weight\": 1\n",
    "    },\n",
    "    {\n",
    "        \"name\": \"TestTensDigit\",\n",
    "        \"desc\": \"Test Tens Digit\",\n",
    "        \"assert\": lotto.test_tens_digit,\n",
    "        \"rule\": \"rank\",\n",
    "        \"column\": \"TensDigit\",\n",
    "        \"rank\": show_column_rank(df, \"TensDigit\"),\n",
    "        \"weight\": 1\n",
    "    },\n",
    "    {\n",
    "        \"name\": \"TestBigSmall\",\n",
    "        \"desc\": \"Test Big Small Nums\",\n",
    "        \"assert\": lotto.test_big_small,\n",
    "        \"rule\": \"rank\",\n",
    "        \"column\": \"BigSmall\",\n",
    "        \"rank\": show_column_rank(df, \"BigSmall\"),\n",
    "        \"weight\": 1\n",
    "    },\n",
    "    {\n",
    "        \"name\": \"TestPrime\",\n",
    "        \"desc\": \"Test Prime Numbers\",\n",
    "        \"assert\": lotto.test_prime,\n",
    "        \"rule\": \"rank\",\n",
    "        \"column\": \"Prime\",\n",
    "        \"rank\": show_column_rank(df, \"Prime\"),\n",
    "        \"weight\": 1\n",
    "    },\n",
    "    {\n",
    "        \"name\": \"TestMinPrimeSum\",\n",
    "        \"desc\": \"Test Sum of Min Prime Numbers\",\n",
    "        \"assert\": lotto.test_min_prime_sum,\n",
    "        \"rule\": \"rank\",\n",
    "        \"column\": \"MinPrimeSum\",\n",
    "        \"rank\": show_column_rank(df, \"MinPrimeSum\"),\n",
    "        \"weight\": 1\n",
    "    },\n",
    "    {\n",
    "        \"name\": \"TestAC\",\n",
    "        \"desc\": \"Test AC Value\",\n",
    "        \"assert\": lotto.test_ac_value,\n",
    "        \"rule\": \"rank\",\n",
    "        \"column\": \"AC\",\n",
    "        \"rank\": show_column_rank(df, \"AC\"),\n",
    "        \"weight\": 1\n",
    "    },\n",
    "    {\n",
    "        \"name\": \"TestDivide2\",\n",
    "        \"desc\": \"Test Divide by 2\",\n",
    "        \"assert\": lotto.test_divide(2),\n",
    "        \"rule\": \"rank\",\n",
    "        \"column\": \"Divide2\",\n",
    "        \"rank\": show_column_rank(df, \"Divide2\"),\n",
    "        \"weight\": 1\n",
    "    },\n",
    "    {\n",
    "        \"name\": \"TestDivide3\",\n",
    "        \"desc\": \"Test Divide by 3\",\n",
    "        \"assert\": lotto.test_divide(3),\n",
    "        \"rule\": \"rank\",\n",
    "        \"column\": \"Divide3\",\n",
    "        \"rank\": show_column_rank(df, \"Divide3\"),\n",
    "        \"weight\": 1\n",
    "    },\n",
    "    {\n",
    "        \"name\": \"TestDivide5\",\n",
    "        \"desc\": \"Test Divide by 5\",\n",
    "        \"assert\": lotto.test_divide(5),\n",
    "        \"rule\": \"rank\",\n",
    "        \"column\": \"Divide5\",\n",
    "        \"rank\": show_column_rank(df, \"Divide5\"),\n",
    "        \"weight\": 1\n",
    "    },\n",
    "]"
   ]
  },
  {
   "cell_type": "code",
   "execution_count": 10,
   "id": "ed258de4-dc34-4140-9a2f-e5e7d77eb10a",
   "metadata": {
    "jupyter": {
     "source_hidden": true
    },
    "tags": []
   },
   "outputs": [],
   "source": [
    "# def valid_generated_nums(numList, df, tests):\n",
    "#     msg = ''\n",
    "#     for t in tests:\n",
    "#         assertValue = t[\"assert\"](numList, df)[0]\n",
    "#         if t[\"rule\"] == \"range\":\n",
    "#             if assertValue in t[t[\"rule\"]]:\n",
    "#                 continue\n",
    "#             else:\n",
    "#                 msg = f'Failed with {t[\"name\"]} assert value {assertValue}'\n",
    "#                 return False\n",
    "#         if t[\"rule\"] == \"notInList\":\n",
    "#             if assertValue not in t[t[\"rule\"]]:\n",
    "#                 continue\n",
    "#             else:\n",
    "#                 msg = f'Failed with {t[\"name\"]} assert value {assertValue}'\n",
    "#                 return False\n",
    "#         if t[\"rule\"] == \"rank\":\n",
    "#             df_t = t[t[\"rule\"]].head(t[\"max\"])\n",
    "#             ar_t = df_t[t[\"column\"]].to_list()\n",
    "#             if assertValue in ar_t:\n",
    "#                 # msg = f'{t[\"name\"]} test {t[\"assert\"]} rank {ar_t.index(t[\"assert\"])}'\n",
    "#                 continue\n",
    "#             else:\n",
    "#                 msg = f'Failed with {t[\"name\"]} assert value {assertValue}'\n",
    "#                 return False\n",
    "            \n",
    "#     return True"
   ]
  },
  {
   "cell_type": "code",
   "execution_count": 11,
   "id": "f407c718-c9ac-477c-82bb-daf1b99b9b09",
   "metadata": {
    "jupyter": {
     "source_hidden": true
    },
    "tags": []
   },
   "outputs": [],
   "source": [
    "# counter = 0\n",
    "# for i in range(10):\n",
    "#     numList = lotto.generate_lotto_nums()\n",
    "#     result = valid_generated_nums(numList, df, tests)\n",
    "#     if result:\n",
    "#         counter+=1\n",
    "#         print(counter, numList)"
   ]
  },
  {
   "cell_type": "code",
   "execution_count": 12,
   "id": "1cd85528-46fd-44e8-b0be-65e221dc1dd7",
   "metadata": {
    "jupyter": {
     "source_hidden": true
    },
    "tags": []
   },
   "outputs": [],
   "source": [
    "# def analyze_generated_nums(numList, df, tests):\n",
    "#     l = [0] * len(tests)\n",
    "#     msg = ''\n",
    "\n",
    "#     for i, t in enumerate(tests):\n",
    "#         assertValue = t[\"assert\"](numList, df)[0]\n",
    "#         if t[\"rule\"] == \"range\":\n",
    "#             if assertValue in t[t[\"rule\"]]:\n",
    "#                 l[i] = t[\"mean\"] - assertValue % t[\"mean\"]\n",
    "#             else:\n",
    "#                 msg = f'Failed with {t[\"name\"]} assert value {assertValue}'\n",
    "#                 return [0] * len(tests), msg\n",
    "#         if t[\"rule\"] == \"notInList\":\n",
    "#             if assertValue not in t[t[\"rule\"]]:\n",
    "#                l[i] = 1\n",
    "#             else:\n",
    "#                 msg = f'Failed with {t[\"name\"]} assert value {assertValue}'\n",
    "#                 return [0] * len(tests), msg\n",
    "#         if t[\"rule\"] == \"rank\":\n",
    "#             df_t = t[t[\"rule\"]].head(t[\"max\"])\n",
    "#             ar_t = df_t[t[\"column\"]].to_list()\n",
    "#             if assertValue in ar_t:\n",
    "#                 l[i] = t[\"max\"] - ar_t.index(assertValue)\n",
    "#                 # msg = f'{t[\"name\"]} test {t[\"assert\"]} rank {ar_t.index(t[\"assert\"])}'\n",
    "#                 continue\n",
    "#             else:\n",
    "#                 msg = f'Failed with {t[\"name\"]} assert value {assertValue}'\n",
    "#                 return [0] * len(tests), msg\n",
    "\n",
    "#     return l, msg\n",
    "\n",
    "# def normalized_col(df, columns):\n",
    "#     for c in columns:\n",
    "#         df[c] = (df[c] - df[c].min())/(df[c].max()-df[c].min())\n",
    "        \n",
    "#     return df"
   ]
  },
  {
   "cell_type": "code",
   "execution_count": 13,
   "id": "13d36993-c843-4e37-963e-64cbdf7ce83b",
   "metadata": {
    "jupyter": {
     "source_hidden": true
    },
    "tags": []
   },
   "outputs": [],
   "source": [
    "# data = []\n",
    "# for i in range(1000):\n",
    "#     numList = lotto.generate_lotto_nums()\n",
    "#     result = analyze_generated_nums(numList, df, tests)[0]\n",
    "#     data.append(numList + result)\n",
    "\n",
    "# df_p = pd.DataFrame(data, columns=['Draw1','Draw2','Draw3','Draw4','Draw5','TestSum','TestPrev','TestOE', 'TestBucket'])\n",
    "# df_p = normalized_col(df_p, ['TestSum','TestPrev','TestOE', 'TestBucket'])\n",
    "# df_p['Score'] = df_p[['TestSum','TestPrev','TestOE', 'TestBucket']].sum(axis=1)\n",
    "# df_p.sort_values('Score', ascending=False)"
   ]
  },
  {
   "cell_type": "code",
   "execution_count": 14,
   "id": "85f50517-fe0f-4640-bd4f-b5e4bbab834b",
   "metadata": {
    "tags": []
   },
   "outputs": [
    {
     "name": "stdout",
     "output_type": "stream",
     "text": [
      "Run 500 simulation for each test\n",
      "2022-12-29 [1, 11, 20, 31, 43] 7.159272331499405 1.1224334389109025\n"
     ]
    },
    {
     "data": {
      "text/html": [
       "<div>\n",
       "<style scoped>\n",
       "    .dataframe tbody tr th:only-of-type {\n",
       "        vertical-align: middle;\n",
       "    }\n",
       "\n",
       "    .dataframe tbody tr th {\n",
       "        vertical-align: top;\n",
       "    }\n",
       "\n",
       "    .dataframe thead th {\n",
       "        text-align: right;\n",
       "    }\n",
       "</style>\n",
       "<table border=\"1\" class=\"dataframe\">\n",
       "  <thead>\n",
       "    <tr style=\"text-align: right;\">\n",
       "      <th></th>\n",
       "      <th>Draw1</th>\n",
       "      <th>Draw2</th>\n",
       "      <th>Draw3</th>\n",
       "      <th>Draw4</th>\n",
       "      <th>Draw5</th>\n",
       "      <th>TestSum</th>\n",
       "      <th>TestPrev3</th>\n",
       "      <th>TestPrev6</th>\n",
       "      <th>TestOnesDigit</th>\n",
       "      <th>TestTensDigit</th>\n",
       "      <th>TestBigSmall</th>\n",
       "      <th>TestPrime</th>\n",
       "      <th>TestMinPrimeSum</th>\n",
       "      <th>TestAC</th>\n",
       "      <th>TestDivide2</th>\n",
       "      <th>TestDivide3</th>\n",
       "      <th>TestDivide5</th>\n",
       "      <th>Score</th>\n",
       "      <th>Result</th>\n",
       "    </tr>\n",
       "  </thead>\n",
       "  <tbody>\n",
       "    <tr>\n",
       "      <th>332</th>\n",
       "      <td>1</td>\n",
       "      <td>11</td>\n",
       "      <td>33</td>\n",
       "      <td>43</td>\n",
       "      <td>48</td>\n",
       "      <td>0.500000</td>\n",
       "      <td>0.724</td>\n",
       "      <td>1.000</td>\n",
       "      <td>0.36</td>\n",
       "      <td>0.333333</td>\n",
       "      <td>1.000000</td>\n",
       "      <td>0.692607</td>\n",
       "      <td>0.423077</td>\n",
       "      <td>0.285326</td>\n",
       "      <td>0.497297</td>\n",
       "      <td>0.808989</td>\n",
       "      <td>0.045455</td>\n",
       "      <td>6.670084</td>\n",
       "      <td>3</td>\n",
       "    </tr>\n",
       "    <tr>\n",
       "      <th>495</th>\n",
       "      <td>2</td>\n",
       "      <td>11</td>\n",
       "      <td>16</td>\n",
       "      <td>20</td>\n",
       "      <td>43</td>\n",
       "      <td>0.214286</td>\n",
       "      <td>0.280</td>\n",
       "      <td>0.365</td>\n",
       "      <td>0.16</td>\n",
       "      <td>0.358974</td>\n",
       "      <td>0.367876</td>\n",
       "      <td>0.400778</td>\n",
       "      <td>0.153846</td>\n",
       "      <td>0.358696</td>\n",
       "      <td>0.967568</td>\n",
       "      <td>0.292135</td>\n",
       "      <td>0.363636</td>\n",
       "      <td>4.282794</td>\n",
       "      <td>3</td>\n",
       "    </tr>\n",
       "  </tbody>\n",
       "</table>\n",
       "</div>"
      ],
      "text/plain": [
       "     Draw1  Draw2  Draw3  Draw4  Draw5   TestSum  TestPrev3  TestPrev6  \\\n",
       "332      1     11     33     43     48  0.500000      0.724      1.000   \n",
       "495      2     11     16     20     43  0.214286      0.280      0.365   \n",
       "\n",
       "     TestOnesDigit  TestTensDigit  TestBigSmall  TestPrime  TestMinPrimeSum  \\\n",
       "332           0.36       0.333333      1.000000   0.692607         0.423077   \n",
       "495           0.16       0.358974      0.367876   0.400778         0.153846   \n",
       "\n",
       "       TestAC  TestDivide2  TestDivide3  TestDivide5     Score  Result  \n",
       "332  0.285326     0.497297     0.808989     0.045455  6.670084       3  \n",
       "495  0.358696     0.967568     0.292135     0.363636  4.282794       3  "
      ]
     },
     "metadata": {},
     "output_type": "display_data"
    },
    {
     "name": "stdout",
     "output_type": "stream",
     "text": [
      "\n"
     ]
    }
   ],
   "source": [
    "df_res = pd.DataFrame(columns =['Date', 'Draw', 'Hit3', 'Hit4', 'Hit5'])\n",
    "for i in range(1):\n",
    "    df_res = pd.concat([df_res, backtest_lotto(lotto, df, tests,\n",
    "                   runs=100 * 5,\n",
    "                   numOfTest=1\n",
    "                  )])"
   ]
  },
  {
   "cell_type": "code",
   "execution_count": 15,
   "id": "d6372a05-17d6-4c38-a58d-48450b88144c",
   "metadata": {},
   "outputs": [
    {
     "name": "stdout",
     "output_type": "stream",
     "text": [
      "Total Hit\n"
     ]
    },
    {
     "data": {
      "text/plain": [
       "2"
      ]
     },
     "execution_count": 15,
     "metadata": {},
     "output_type": "execute_result"
    }
   ],
   "source": [
    "print('Total Hit')\n",
    "df_res[['Hit3', 'Hit4', 'Hit5']].sum().sum()"
   ]
  },
  {
   "cell_type": "code",
   "execution_count": 16,
   "id": "8fcdd37f-acf5-4719-86b7-26f3fb5391bb",
   "metadata": {
    "jupyter": {
     "source_hidden": true
    },
    "tags": []
   },
   "outputs": [],
   "source": [
    "# backtest_lotto(lotto, df, tests,\n",
    "#                    runs=300,\n",
    "#                    numOfTest=10\n",
    "#                   )"
   ]
  },
  {
   "cell_type": "code",
   "execution_count": 17,
   "id": "bbdadaf4-c508-461b-a356-294fdf6dc2c8",
   "metadata": {
    "tags": []
   },
   "outputs": [],
   "source": [
    "# df.to_csv('./data/DailyGrand/DailyGrand.analytics.csv', index=False)"
   ]
  },
  {
   "cell_type": "code",
   "execution_count": null,
   "id": "526e1fc9-553c-4d16-8840-30cd557f283a",
   "metadata": {},
   "outputs": [],
   "source": []
  }
 ],
 "metadata": {
  "kernelspec": {
   "display_name": "Python 3 (ipykernel)",
   "language": "python",
   "name": "python3"
  },
  "language_info": {
   "codemirror_mode": {
    "name": "ipython",
    "version": 3
   },
   "file_extension": ".py",
   "mimetype": "text/x-python",
   "name": "python",
   "nbconvert_exporter": "python",
   "pygments_lexer": "ipython3",
   "version": "3.10.4"
  }
 },
 "nbformat": 4,
 "nbformat_minor": 5
}
