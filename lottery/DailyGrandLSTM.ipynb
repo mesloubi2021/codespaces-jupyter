{
 "cells": [
  {
   "cell_type": "code",
   "execution_count": 1,
   "id": "2c0117a0-36a1-4ca1-9476-53cbfd72aba0",
   "metadata": {},
   "outputs": [],
   "source": [
    "import pandas as pd\n",
    "import numpy as np\n",
    "from sklearn.preprocessing import StandardScaler"
   ]
  },
  {
   "cell_type": "code",
   "execution_count": 2,
   "id": "f39e1363-fbe1-460a-af13-e34c190fe490",
   "metadata": {},
   "outputs": [],
   "source": [
    "df_org = pd.read_csv(\"./data/DailyGrand/DailyGrand.raw.csv\", parse_dates=['Date'])"
   ]
  },
  {
   "cell_type": "code",
   "execution_count": 3,
   "id": "53565efd-e8af-4b32-a767-16343a16c0cc",
   "metadata": {},
   "outputs": [],
   "source": [
    "df = df_org[[f\"Draw{i}\" for i in range(1, 6)]].iloc[7:]\n",
    "df_test = df_org[[f\"Draw{i}\" for i in range(1, 6)]].iloc[1:7]"
   ]
  },
  {
   "cell_type": "code",
   "execution_count": 4,
   "id": "d7bb79e0-3bf0-4f65-a2d3-13961ef95fef",
   "metadata": {},
   "outputs": [
    {
     "data": {
      "text/html": [
       "<div>\n",
       "<style scoped>\n",
       "    .dataframe tbody tr th:only-of-type {\n",
       "        vertical-align: middle;\n",
       "    }\n",
       "\n",
       "    .dataframe tbody tr th {\n",
       "        vertical-align: top;\n",
       "    }\n",
       "\n",
       "    .dataframe thead th {\n",
       "        text-align: right;\n",
       "    }\n",
       "</style>\n",
       "<table border=\"1\" class=\"dataframe\">\n",
       "  <thead>\n",
       "    <tr style=\"text-align: right;\">\n",
       "      <th></th>\n",
       "      <th>Draw1</th>\n",
       "      <th>Draw2</th>\n",
       "      <th>Draw3</th>\n",
       "      <th>Draw4</th>\n",
       "      <th>Draw5</th>\n",
       "    </tr>\n",
       "  </thead>\n",
       "  <tbody>\n",
       "    <tr>\n",
       "      <th>1</th>\n",
       "      <td>9</td>\n",
       "      <td>26</td>\n",
       "      <td>28</td>\n",
       "      <td>29</td>\n",
       "      <td>48</td>\n",
       "    </tr>\n",
       "    <tr>\n",
       "      <th>2</th>\n",
       "      <td>10</td>\n",
       "      <td>24</td>\n",
       "      <td>33</td>\n",
       "      <td>43</td>\n",
       "      <td>44</td>\n",
       "    </tr>\n",
       "    <tr>\n",
       "      <th>3</th>\n",
       "      <td>2</td>\n",
       "      <td>3</td>\n",
       "      <td>20</td>\n",
       "      <td>26</td>\n",
       "      <td>28</td>\n",
       "    </tr>\n",
       "    <tr>\n",
       "      <th>4</th>\n",
       "      <td>17</td>\n",
       "      <td>32</td>\n",
       "      <td>33</td>\n",
       "      <td>41</td>\n",
       "      <td>45</td>\n",
       "    </tr>\n",
       "    <tr>\n",
       "      <th>5</th>\n",
       "      <td>9</td>\n",
       "      <td>39</td>\n",
       "      <td>40</td>\n",
       "      <td>41</td>\n",
       "      <td>45</td>\n",
       "    </tr>\n",
       "    <tr>\n",
       "      <th>6</th>\n",
       "      <td>1</td>\n",
       "      <td>26</td>\n",
       "      <td>27</td>\n",
       "      <td>38</td>\n",
       "      <td>46</td>\n",
       "    </tr>\n",
       "  </tbody>\n",
       "</table>\n",
       "</div>"
      ],
      "text/plain": [
       "   Draw1  Draw2  Draw3  Draw4  Draw5\n",
       "1      9     26     28     29     48\n",
       "2     10     24     33     43     44\n",
       "3      2      3     20     26     28\n",
       "4     17     32     33     41     45\n",
       "5      9     39     40     41     45\n",
       "6      1     26     27     38     46"
      ]
     },
     "execution_count": 4,
     "metadata": {},
     "output_type": "execute_result"
    }
   ],
   "source": [
    "df_test"
   ]
  },
  {
   "cell_type": "code",
   "execution_count": 5,
   "id": "43a06e0a-ce99-4a7f-8ac7-6359c3d0cea1",
   "metadata": {},
   "outputs": [],
   "source": [
    "scaler = StandardScaler().fit(df.values)\n",
    "ds_transformed = scaler.transform(df.values)\n",
    "df_transformed = pd.DataFrame(data=ds_transformed, index=df.index)"
   ]
  },
  {
   "cell_type": "code",
   "execution_count": 6,
   "id": "ff8ff96c-1db3-487e-a1c2-662577fca05b",
   "metadata": {},
   "outputs": [
    {
     "data": {
      "text/html": [
       "<div>\n",
       "<style scoped>\n",
       "    .dataframe tbody tr th:only-of-type {\n",
       "        vertical-align: middle;\n",
       "    }\n",
       "\n",
       "    .dataframe tbody tr th {\n",
       "        vertical-align: top;\n",
       "    }\n",
       "\n",
       "    .dataframe thead th {\n",
       "        text-align: right;\n",
       "    }\n",
       "</style>\n",
       "<table border=\"1\" class=\"dataframe\">\n",
       "  <thead>\n",
       "    <tr style=\"text-align: right;\">\n",
       "      <th></th>\n",
       "      <th>0</th>\n",
       "      <th>1</th>\n",
       "      <th>2</th>\n",
       "      <th>3</th>\n",
       "      <th>4</th>\n",
       "    </tr>\n",
       "  </thead>\n",
       "  <tbody>\n",
       "    <tr>\n",
       "      <th>7</th>\n",
       "      <td>-0.325024</td>\n",
       "      <td>-1.028464</td>\n",
       "      <td>-1.607447</td>\n",
       "      <td>-0.175018</td>\n",
       "      <td>-1.428477</td>\n",
       "    </tr>\n",
       "    <tr>\n",
       "      <th>8</th>\n",
       "      <td>2.645922</td>\n",
       "      <td>1.811347</td>\n",
       "      <td>1.842385</td>\n",
       "      <td>1.109794</td>\n",
       "      <td>0.599102</td>\n",
       "    </tr>\n",
       "    <tr>\n",
       "      <th>9</th>\n",
       "      <td>-0.481390</td>\n",
       "      <td>-1.146790</td>\n",
       "      <td>-1.391832</td>\n",
       "      <td>-0.175018</td>\n",
       "      <td>1.067005</td>\n",
       "    </tr>\n",
       "    <tr>\n",
       "      <th>10</th>\n",
       "      <td>0.769535</td>\n",
       "      <td>0.628092</td>\n",
       "      <td>0.656506</td>\n",
       "      <td>0.408988</td>\n",
       "      <td>0.443135</td>\n",
       "    </tr>\n",
       "    <tr>\n",
       "      <th>11</th>\n",
       "      <td>-0.950486</td>\n",
       "      <td>-1.620091</td>\n",
       "      <td>-2.146483</td>\n",
       "      <td>-2.511041</td>\n",
       "      <td>-2.364283</td>\n",
       "    </tr>\n",
       "  </tbody>\n",
       "</table>\n",
       "</div>"
      ],
      "text/plain": [
       "           0         1         2         3         4\n",
       "7  -0.325024 -1.028464 -1.607447 -0.175018 -1.428477\n",
       "8   2.645922  1.811347  1.842385  1.109794  0.599102\n",
       "9  -0.481390 -1.146790 -1.391832 -0.175018  1.067005\n",
       "10  0.769535  0.628092  0.656506  0.408988  0.443135\n",
       "11 -0.950486 -1.620091 -2.146483 -2.511041 -2.364283"
      ]
     },
     "execution_count": 6,
     "metadata": {},
     "output_type": "execute_result"
    }
   ],
   "source": [
    "df_transformed.head()"
   ]
  },
  {
   "cell_type": "code",
   "execution_count": 7,
   "id": "178c5a56-41e0-4bf4-b9ce-8715e95f8e7b",
   "metadata": {},
   "outputs": [],
   "source": [
    "number_of_rows = df.shape[0]\n",
    "window_length = 6\n",
    "number_of_features = df.shape[1]"
   ]
  },
  {
   "cell_type": "code",
   "execution_count": 8,
   "id": "02b96a84-2651-4db1-982d-a9107bdd5e95",
   "metadata": {},
   "outputs": [],
   "source": [
    "train = np.empty([number_of_rows - window_length, window_length, number_of_features], dtype=float)\n",
    "label = np.empty([number_of_rows - window_length, number_of_features], dtype=float)"
   ]
  },
  {
   "cell_type": "code",
   "execution_count": 9,
   "id": "267e52b8-588b-4001-929f-549f28193e95",
   "metadata": {},
   "outputs": [],
   "source": [
    "for i in range(number_of_rows - window_length):\n",
    "    train[i] = df_transformed.iloc[i: i+window_length, 0: number_of_features]\n",
    "    label[i] = df_transformed.iloc[i+window_length: i+window_length+1, 0: number_of_features]"
   ]
  },
  {
   "cell_type": "code",
   "execution_count": 10,
   "id": "626a44b9-b4c6-4d28-9107-fdee1716d616",
   "metadata": {},
   "outputs": [
    {
     "data": {
      "text/plain": [
       "((630, 6, 5), (630, 5))"
      ]
     },
     "execution_count": 10,
     "metadata": {},
     "output_type": "execute_result"
    }
   ],
   "source": [
    "train.shape, label.shape"
   ]
  },
  {
   "cell_type": "markdown",
   "id": "26729c37-a8ff-44ab-a2f4-79fcfff790d6",
   "metadata": {},
   "source": [
    "## LSTM Mode"
   ]
  },
  {
   "cell_type": "code",
   "execution_count": 11,
   "id": "868fb213-e908-49d3-b08a-6360e34e84ed",
   "metadata": {},
   "outputs": [
    {
     "name": "stderr",
     "output_type": "stream",
     "text": [
      "2022-12-27 18:49:09.266307: W tensorflow/compiler/xla/stream_executor/platform/default/dso_loader.cc:64] Could not load dynamic library 'libcudart.so.11.0'; dlerror: libcudart.so.11.0: cannot open shared object file: No such file or directory\n",
      "2022-12-27 18:49:09.266334: I tensorflow/compiler/xla/stream_executor/cuda/cudart_stub.cc:29] Ignore above cudart dlerror if you do not have a GPU set up on your machine.\n",
      "2022-12-27 18:49:10.054835: W tensorflow/compiler/xla/stream_executor/platform/default/dso_loader.cc:64] Could not load dynamic library 'libnvinfer.so.7'; dlerror: libnvinfer.so.7: cannot open shared object file: No such file or directory\n",
      "2022-12-27 18:49:10.054930: W tensorflow/compiler/xla/stream_executor/platform/default/dso_loader.cc:64] Could not load dynamic library 'libnvinfer_plugin.so.7'; dlerror: libnvinfer_plugin.so.7: cannot open shared object file: No such file or directory\n",
      "2022-12-27 18:49:10.054943: W tensorflow/compiler/tf2tensorrt/utils/py_utils.cc:38] TF-TRT Warning: Cannot dlopen some TensorRT libraries. If you would like to use Nvidia GPU with TensorRT, please make sure the missing libraries mentioned above are installed properly.\n"
     ]
    }
   ],
   "source": [
    "from keras import models\n",
    "from keras.models import Sequential\n",
    "from keras.layers import LSTM, Dense, Bidirectional, Dropout"
   ]
  },
  {
   "cell_type": "code",
   "execution_count": 12,
   "id": "c18acad3-ca94-45a9-bafb-a5706bcbefd4",
   "metadata": {},
   "outputs": [],
   "source": [
    "batch_size = 49"
   ]
  },
  {
   "cell_type": "code",
   "execution_count": 13,
   "id": "69eab1f5-0f30-40f4-8e43-17af2e5d0772",
   "metadata": {},
   "outputs": [
    {
     "name": "stderr",
     "output_type": "stream",
     "text": [
      "2022-12-27 18:49:10.787309: W tensorflow/compiler/xla/stream_executor/platform/default/dso_loader.cc:64] Could not load dynamic library 'libcuda.so.1'; dlerror: libcuda.so.1: cannot open shared object file: No such file or directory\n",
      "2022-12-27 18:49:10.787335: W tensorflow/compiler/xla/stream_executor/cuda/cuda_driver.cc:265] failed call to cuInit: UNKNOWN ERROR (303)\n",
      "2022-12-27 18:49:10.787355: I tensorflow/compiler/xla/stream_executor/cuda/cuda_diagnostics.cc:156] kernel driver does not appear to be running on this host (943c92b60e48): /proc/driver/nvidia/version does not exist\n"
     ]
    }
   ],
   "source": [
    "model = Sequential()\n",
    "model.add(LSTM(240,\n",
    "                            input_shape=(window_length, number_of_features),\n",
    "                            return_sequences=True))\n",
    "model.add(Dropout(0.5))\n",
    "model.add(LSTM(240,\n",
    "                            input_shape=(window_length, number_of_features),\n",
    "                            return_sequences=True))\n",
    "model.add(LSTM(240,\n",
    "                            input_shape=(window_length, number_of_features),\n",
    "                            return_sequences=False))\n",
    "model.add(Dense(49))\n",
    "model.add(Dense(number_of_features))\n",
    "model.compile(loss='mse', optimizer='rmsprop', metrics=['accuracy'])"
   ]
  },
  {
   "cell_type": "code",
   "execution_count": 14,
   "id": "c8253cb7-0203-4804-a625-3b892cdd5e4b",
   "metadata": {},
   "outputs": [
    {
     "name": "stdout",
     "output_type": "stream",
     "text": [
      "7/7 [==============================] - 6s 69ms/step - loss: 0.9975 - accuracy: 0.1698\n"
     ]
    },
    {
     "data": {
      "text/plain": [
       "<keras.callbacks.History at 0x7f1580166e90>"
      ]
     },
     "execution_count": 14,
     "metadata": {},
     "output_type": "execute_result"
    }
   ],
   "source": [
    "model.fit(train, label, batch_size=100, epochs=1)"
   ]
  },
  {
   "cell_type": "code",
   "execution_count": 15,
   "id": "57ec4281-6d07-4621-a11e-8e2f70dee953",
   "metadata": {},
   "outputs": [
    {
     "name": "stdout",
     "output_type": "stream",
     "text": [
      "1/1 [==============================] - 1s 1s/step\n",
      "[ 8 16 24 33 42]\n"
     ]
    }
   ],
   "source": [
    "to_predict = np.array(df_test.values)\n",
    "scaled_to_predict = scaler.transform(to_predict)\n",
    "scaled_predicted_output_1 = model.predict(np.array([scaled_to_predict]))\n",
    "print(scaler.inverse_transform(scaled_predicted_output_1).astype(int)[0])"
   ]
  },
  {
   "cell_type": "code",
   "execution_count": 16,
   "id": "3302da96-56c3-498d-87b7-26003f5f3042",
   "metadata": {},
   "outputs": [
    {
     "name": "stdout",
     "output_type": "stream",
     "text": [
      "Model: \"sequential\"\n",
      "_________________________________________________________________\n",
      " Layer (type)                Output Shape              Param #   \n",
      "=================================================================\n",
      " lstm (LSTM)                 (None, 6, 240)            236160    \n",
      "                                                                 \n",
      " dropout (Dropout)           (None, 6, 240)            0         \n",
      "                                                                 \n",
      " lstm_1 (LSTM)               (None, 6, 240)            461760    \n",
      "                                                                 \n",
      " lstm_2 (LSTM)               (None, 240)               461760    \n",
      "                                                                 \n",
      " dense (Dense)               (None, 49)                11809     \n",
      "                                                                 \n",
      " dense_1 (Dense)             (None, 5)                 250       \n",
      "                                                                 \n",
      "=================================================================\n",
      "Total params: 1,171,739\n",
      "Trainable params: 1,171,739\n",
      "Non-trainable params: 0\n",
      "_________________________________________________________________\n"
     ]
    }
   ],
   "source": [
    "model.summary()"
   ]
  }
 ],
 "metadata": {
  "kernelspec": {
   "display_name": "Python 3 (ipykernel)",
   "language": "python",
   "name": "python3"
  },
  "language_info": {
   "codemirror_mode": {
    "name": "ipython",
    "version": 3
   },
   "file_extension": ".py",
   "mimetype": "text/x-python",
   "name": "python",
   "nbconvert_exporter": "python",
   "pygments_lexer": "ipython3",
   "version": "3.10.4"
  }
 },
 "nbformat": 4,
 "nbformat_minor": 5
}
