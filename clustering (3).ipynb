{
 "cells": [
  {
   "cell_type": "code",
   "execution_count": 1,
   "id": "a419234d-69df-4e32-ae78-f537496510d8",
   "metadata": {},
   "outputs": [],
   "source": [
    "import pandas as pd\n",
    "import numpy as np"
   ]
  },
  {
   "cell_type": "code",
   "execution_count": 2,
   "id": "c5cab025-477f-4dfd-8674-58fd50834c94",
   "metadata": {},
   "outputs": [
    {
     "name": "stderr",
     "output_type": "stream",
     "text": [
      "C:\\Users\\iyers\\AppData\\Local\\Temp\\ipykernel_12492\\2061566770.py:1: DtypeWarning: Columns (25,108) have mixed types. Specify dtype option on import or set low_memory=False.\n",
      "  players = pd.read_csv(\"players_22.csv\")\n"
     ]
    }
   ],
   "source": [
    "players = pd.read_csv(\"players_22.csv\")"
   ]
  },
  {
   "cell_type": "code",
   "execution_count": 3,
   "id": "1811c9c0",
   "metadata": {},
   "outputs": [
    {
     "data": {
      "text/html": [
       "<div>\n",
       "<style scoped>\n",
       "    .dataframe tbody tr th:only-of-type {\n",
       "        vertical-align: middle;\n",
       "    }\n",
       "\n",
       "    .dataframe tbody tr th {\n",
       "        vertical-align: top;\n",
       "    }\n",
       "\n",
       "    .dataframe thead th {\n",
       "        text-align: right;\n",
       "    }\n",
       "</style>\n",
       "<table border=\"1\" class=\"dataframe\">\n",
       "  <thead>\n",
       "    <tr style=\"text-align: right;\">\n",
       "      <th></th>\n",
       "      <th>sofifa_id</th>\n",
       "      <th>player_url</th>\n",
       "      <th>short_name</th>\n",
       "      <th>long_name</th>\n",
       "      <th>player_positions</th>\n",
       "      <th>overall</th>\n",
       "      <th>potential</th>\n",
       "      <th>value_eur</th>\n",
       "      <th>wage_eur</th>\n",
       "      <th>age</th>\n",
       "      <th>...</th>\n",
       "      <th>lcb</th>\n",
       "      <th>cb</th>\n",
       "      <th>rcb</th>\n",
       "      <th>rb</th>\n",
       "      <th>gk</th>\n",
       "      <th>player_face_url</th>\n",
       "      <th>club_logo_url</th>\n",
       "      <th>club_flag_url</th>\n",
       "      <th>nation_logo_url</th>\n",
       "      <th>nation_flag_url</th>\n",
       "    </tr>\n",
       "  </thead>\n",
       "  <tbody>\n",
       "    <tr>\n",
       "      <th>0</th>\n",
       "      <td>158023</td>\n",
       "      <td>https://sofifa.com/player/158023/lionel-messi/...</td>\n",
       "      <td>L. Messi</td>\n",
       "      <td>Lionel Andrés Messi Cuccittini</td>\n",
       "      <td>RW, ST, CF</td>\n",
       "      <td>93</td>\n",
       "      <td>93</td>\n",
       "      <td>78000000.0</td>\n",
       "      <td>320000.0</td>\n",
       "      <td>34</td>\n",
       "      <td>...</td>\n",
       "      <td>50+3</td>\n",
       "      <td>50+3</td>\n",
       "      <td>50+3</td>\n",
       "      <td>61+3</td>\n",
       "      <td>19+3</td>\n",
       "      <td>https://cdn.sofifa.net/players/158/023/22_120.png</td>\n",
       "      <td>https://cdn.sofifa.net/teams/73/60.png</td>\n",
       "      <td>https://cdn.sofifa.net/flags/fr.png</td>\n",
       "      <td>https://cdn.sofifa.net/teams/1369/60.png</td>\n",
       "      <td>https://cdn.sofifa.net/flags/ar.png</td>\n",
       "    </tr>\n",
       "    <tr>\n",
       "      <th>1</th>\n",
       "      <td>188545</td>\n",
       "      <td>https://sofifa.com/player/188545/robert-lewand...</td>\n",
       "      <td>R. Lewandowski</td>\n",
       "      <td>Robert Lewandowski</td>\n",
       "      <td>ST</td>\n",
       "      <td>92</td>\n",
       "      <td>92</td>\n",
       "      <td>119500000.0</td>\n",
       "      <td>270000.0</td>\n",
       "      <td>32</td>\n",
       "      <td>...</td>\n",
       "      <td>60+3</td>\n",
       "      <td>60+3</td>\n",
       "      <td>60+3</td>\n",
       "      <td>61+3</td>\n",
       "      <td>19+3</td>\n",
       "      <td>https://cdn.sofifa.net/players/188/545/22_120.png</td>\n",
       "      <td>https://cdn.sofifa.net/teams/21/60.png</td>\n",
       "      <td>https://cdn.sofifa.net/flags/de.png</td>\n",
       "      <td>https://cdn.sofifa.net/teams/1353/60.png</td>\n",
       "      <td>https://cdn.sofifa.net/flags/pl.png</td>\n",
       "    </tr>\n",
       "    <tr>\n",
       "      <th>2</th>\n",
       "      <td>20801</td>\n",
       "      <td>https://sofifa.com/player/20801/c-ronaldo-dos-...</td>\n",
       "      <td>Cristiano Ronaldo</td>\n",
       "      <td>Cristiano Ronaldo dos Santos Aveiro</td>\n",
       "      <td>ST, LW</td>\n",
       "      <td>91</td>\n",
       "      <td>91</td>\n",
       "      <td>45000000.0</td>\n",
       "      <td>270000.0</td>\n",
       "      <td>36</td>\n",
       "      <td>...</td>\n",
       "      <td>53+3</td>\n",
       "      <td>53+3</td>\n",
       "      <td>53+3</td>\n",
       "      <td>60+3</td>\n",
       "      <td>20+3</td>\n",
       "      <td>https://cdn.sofifa.net/players/020/801/22_120.png</td>\n",
       "      <td>https://cdn.sofifa.net/teams/11/60.png</td>\n",
       "      <td>https://cdn.sofifa.net/flags/gb-eng.png</td>\n",
       "      <td>https://cdn.sofifa.net/teams/1354/60.png</td>\n",
       "      <td>https://cdn.sofifa.net/flags/pt.png</td>\n",
       "    </tr>\n",
       "    <tr>\n",
       "      <th>3</th>\n",
       "      <td>190871</td>\n",
       "      <td>https://sofifa.com/player/190871/neymar-da-sil...</td>\n",
       "      <td>Neymar Jr</td>\n",
       "      <td>Neymar da Silva Santos Júnior</td>\n",
       "      <td>LW, CAM</td>\n",
       "      <td>91</td>\n",
       "      <td>91</td>\n",
       "      <td>129000000.0</td>\n",
       "      <td>270000.0</td>\n",
       "      <td>29</td>\n",
       "      <td>...</td>\n",
       "      <td>50+3</td>\n",
       "      <td>50+3</td>\n",
       "      <td>50+3</td>\n",
       "      <td>62+3</td>\n",
       "      <td>20+3</td>\n",
       "      <td>https://cdn.sofifa.net/players/190/871/22_120.png</td>\n",
       "      <td>https://cdn.sofifa.net/teams/73/60.png</td>\n",
       "      <td>https://cdn.sofifa.net/flags/fr.png</td>\n",
       "      <td>NaN</td>\n",
       "      <td>https://cdn.sofifa.net/flags/br.png</td>\n",
       "    </tr>\n",
       "    <tr>\n",
       "      <th>4</th>\n",
       "      <td>192985</td>\n",
       "      <td>https://sofifa.com/player/192985/kevin-de-bruy...</td>\n",
       "      <td>K. De Bruyne</td>\n",
       "      <td>Kevin De Bruyne</td>\n",
       "      <td>CM, CAM</td>\n",
       "      <td>91</td>\n",
       "      <td>91</td>\n",
       "      <td>125500000.0</td>\n",
       "      <td>350000.0</td>\n",
       "      <td>30</td>\n",
       "      <td>...</td>\n",
       "      <td>69+3</td>\n",
       "      <td>69+3</td>\n",
       "      <td>69+3</td>\n",
       "      <td>75+3</td>\n",
       "      <td>21+3</td>\n",
       "      <td>https://cdn.sofifa.net/players/192/985/22_120.png</td>\n",
       "      <td>https://cdn.sofifa.net/teams/10/60.png</td>\n",
       "      <td>https://cdn.sofifa.net/flags/gb-eng.png</td>\n",
       "      <td>https://cdn.sofifa.net/teams/1325/60.png</td>\n",
       "      <td>https://cdn.sofifa.net/flags/be.png</td>\n",
       "    </tr>\n",
       "    <tr>\n",
       "      <th>5</th>\n",
       "      <td>200389</td>\n",
       "      <td>https://sofifa.com/player/200389/jan-oblak/220002</td>\n",
       "      <td>J. Oblak</td>\n",
       "      <td>Jan Oblak</td>\n",
       "      <td>GK</td>\n",
       "      <td>91</td>\n",
       "      <td>93</td>\n",
       "      <td>112000000.0</td>\n",
       "      <td>130000.0</td>\n",
       "      <td>28</td>\n",
       "      <td>...</td>\n",
       "      <td>33+3</td>\n",
       "      <td>33+3</td>\n",
       "      <td>33+3</td>\n",
       "      <td>32+3</td>\n",
       "      <td>89+3</td>\n",
       "      <td>https://cdn.sofifa.net/players/200/389/22_120.png</td>\n",
       "      <td>https://cdn.sofifa.net/teams/240/60.png</td>\n",
       "      <td>https://cdn.sofifa.net/flags/es.png</td>\n",
       "      <td>NaN</td>\n",
       "      <td>https://cdn.sofifa.net/flags/si.png</td>\n",
       "    </tr>\n",
       "    <tr>\n",
       "      <th>6</th>\n",
       "      <td>231747</td>\n",
       "      <td>https://sofifa.com/player/231747/kylian-mbappe...</td>\n",
       "      <td>K. Mbappé</td>\n",
       "      <td>Kylian Mbappé Lottin</td>\n",
       "      <td>ST, LW</td>\n",
       "      <td>91</td>\n",
       "      <td>95</td>\n",
       "      <td>194000000.0</td>\n",
       "      <td>230000.0</td>\n",
       "      <td>22</td>\n",
       "      <td>...</td>\n",
       "      <td>54+3</td>\n",
       "      <td>54+3</td>\n",
       "      <td>54+3</td>\n",
       "      <td>63+3</td>\n",
       "      <td>18+3</td>\n",
       "      <td>https://cdn.sofifa.net/players/231/747/22_120.png</td>\n",
       "      <td>https://cdn.sofifa.net/teams/73/60.png</td>\n",
       "      <td>https://cdn.sofifa.net/flags/fr.png</td>\n",
       "      <td>https://cdn.sofifa.net/teams/1335/60.png</td>\n",
       "      <td>https://cdn.sofifa.net/flags/fr.png</td>\n",
       "    </tr>\n",
       "    <tr>\n",
       "      <th>7</th>\n",
       "      <td>167495</td>\n",
       "      <td>https://sofifa.com/player/167495/manuel-neuer/...</td>\n",
       "      <td>M. Neuer</td>\n",
       "      <td>Manuel Peter Neuer</td>\n",
       "      <td>GK</td>\n",
       "      <td>90</td>\n",
       "      <td>90</td>\n",
       "      <td>13500000.0</td>\n",
       "      <td>86000.0</td>\n",
       "      <td>35</td>\n",
       "      <td>...</td>\n",
       "      <td>34+3</td>\n",
       "      <td>34+3</td>\n",
       "      <td>34+3</td>\n",
       "      <td>35+3</td>\n",
       "      <td>88+2</td>\n",
       "      <td>https://cdn.sofifa.net/players/167/495/22_120.png</td>\n",
       "      <td>https://cdn.sofifa.net/teams/21/60.png</td>\n",
       "      <td>https://cdn.sofifa.net/flags/de.png</td>\n",
       "      <td>https://cdn.sofifa.net/teams/1337/60.png</td>\n",
       "      <td>https://cdn.sofifa.net/flags/de.png</td>\n",
       "    </tr>\n",
       "    <tr>\n",
       "      <th>8</th>\n",
       "      <td>192448</td>\n",
       "      <td>https://sofifa.com/player/192448/marc-andre-te...</td>\n",
       "      <td>M. ter Stegen</td>\n",
       "      <td>Marc-André ter Stegen</td>\n",
       "      <td>GK</td>\n",
       "      <td>90</td>\n",
       "      <td>92</td>\n",
       "      <td>99000000.0</td>\n",
       "      <td>250000.0</td>\n",
       "      <td>29</td>\n",
       "      <td>...</td>\n",
       "      <td>33+3</td>\n",
       "      <td>33+3</td>\n",
       "      <td>33+3</td>\n",
       "      <td>31+3</td>\n",
       "      <td>88+3</td>\n",
       "      <td>https://cdn.sofifa.net/players/192/448/22_120.png</td>\n",
       "      <td>https://cdn.sofifa.net/teams/241/60.png</td>\n",
       "      <td>https://cdn.sofifa.net/flags/es.png</td>\n",
       "      <td>NaN</td>\n",
       "      <td>https://cdn.sofifa.net/flags/de.png</td>\n",
       "    </tr>\n",
       "    <tr>\n",
       "      <th>9</th>\n",
       "      <td>202126</td>\n",
       "      <td>https://sofifa.com/player/202126/harry-kane/22...</td>\n",
       "      <td>H. Kane</td>\n",
       "      <td>Harry Kane</td>\n",
       "      <td>ST</td>\n",
       "      <td>90</td>\n",
       "      <td>90</td>\n",
       "      <td>129500000.0</td>\n",
       "      <td>240000.0</td>\n",
       "      <td>27</td>\n",
       "      <td>...</td>\n",
       "      <td>61+3</td>\n",
       "      <td>61+3</td>\n",
       "      <td>61+3</td>\n",
       "      <td>64+3</td>\n",
       "      <td>20+3</td>\n",
       "      <td>https://cdn.sofifa.net/players/202/126/22_120.png</td>\n",
       "      <td>https://cdn.sofifa.net/teams/18/60.png</td>\n",
       "      <td>https://cdn.sofifa.net/flags/gb-eng.png</td>\n",
       "      <td>https://cdn.sofifa.net/teams/1318/60.png</td>\n",
       "      <td>https://cdn.sofifa.net/flags/gb-eng.png</td>\n",
       "    </tr>\n",
       "  </tbody>\n",
       "</table>\n",
       "<p>10 rows × 110 columns</p>\n",
       "</div>"
      ],
      "text/plain": [
       "   sofifa_id                                         player_url  \\\n",
       "0     158023  https://sofifa.com/player/158023/lionel-messi/...   \n",
       "1     188545  https://sofifa.com/player/188545/robert-lewand...   \n",
       "2      20801  https://sofifa.com/player/20801/c-ronaldo-dos-...   \n",
       "3     190871  https://sofifa.com/player/190871/neymar-da-sil...   \n",
       "4     192985  https://sofifa.com/player/192985/kevin-de-bruy...   \n",
       "5     200389  https://sofifa.com/player/200389/jan-oblak/220002   \n",
       "6     231747  https://sofifa.com/player/231747/kylian-mbappe...   \n",
       "7     167495  https://sofifa.com/player/167495/manuel-neuer/...   \n",
       "8     192448  https://sofifa.com/player/192448/marc-andre-te...   \n",
       "9     202126  https://sofifa.com/player/202126/harry-kane/22...   \n",
       "\n",
       "          short_name                            long_name player_positions  \\\n",
       "0           L. Messi       Lionel Andrés Messi Cuccittini       RW, ST, CF   \n",
       "1     R. Lewandowski                   Robert Lewandowski               ST   \n",
       "2  Cristiano Ronaldo  Cristiano Ronaldo dos Santos Aveiro           ST, LW   \n",
       "3          Neymar Jr        Neymar da Silva Santos Júnior          LW, CAM   \n",
       "4       K. De Bruyne                      Kevin De Bruyne          CM, CAM   \n",
       "5           J. Oblak                            Jan Oblak               GK   \n",
       "6          K. Mbappé                 Kylian Mbappé Lottin           ST, LW   \n",
       "7           M. Neuer                   Manuel Peter Neuer               GK   \n",
       "8      M. ter Stegen                Marc-André ter Stegen               GK   \n",
       "9            H. Kane                           Harry Kane               ST   \n",
       "\n",
       "   overall  potential    value_eur  wage_eur  age  ...   lcb    cb   rcb  \\\n",
       "0       93         93   78000000.0  320000.0   34  ...  50+3  50+3  50+3   \n",
       "1       92         92  119500000.0  270000.0   32  ...  60+3  60+3  60+3   \n",
       "2       91         91   45000000.0  270000.0   36  ...  53+3  53+3  53+3   \n",
       "3       91         91  129000000.0  270000.0   29  ...  50+3  50+3  50+3   \n",
       "4       91         91  125500000.0  350000.0   30  ...  69+3  69+3  69+3   \n",
       "5       91         93  112000000.0  130000.0   28  ...  33+3  33+3  33+3   \n",
       "6       91         95  194000000.0  230000.0   22  ...  54+3  54+3  54+3   \n",
       "7       90         90   13500000.0   86000.0   35  ...  34+3  34+3  34+3   \n",
       "8       90         92   99000000.0  250000.0   29  ...  33+3  33+3  33+3   \n",
       "9       90         90  129500000.0  240000.0   27  ...  61+3  61+3  61+3   \n",
       "\n",
       "     rb    gk                                    player_face_url  \\\n",
       "0  61+3  19+3  https://cdn.sofifa.net/players/158/023/22_120.png   \n",
       "1  61+3  19+3  https://cdn.sofifa.net/players/188/545/22_120.png   \n",
       "2  60+3  20+3  https://cdn.sofifa.net/players/020/801/22_120.png   \n",
       "3  62+3  20+3  https://cdn.sofifa.net/players/190/871/22_120.png   \n",
       "4  75+3  21+3  https://cdn.sofifa.net/players/192/985/22_120.png   \n",
       "5  32+3  89+3  https://cdn.sofifa.net/players/200/389/22_120.png   \n",
       "6  63+3  18+3  https://cdn.sofifa.net/players/231/747/22_120.png   \n",
       "7  35+3  88+2  https://cdn.sofifa.net/players/167/495/22_120.png   \n",
       "8  31+3  88+3  https://cdn.sofifa.net/players/192/448/22_120.png   \n",
       "9  64+3  20+3  https://cdn.sofifa.net/players/202/126/22_120.png   \n",
       "\n",
       "                             club_logo_url  \\\n",
       "0   https://cdn.sofifa.net/teams/73/60.png   \n",
       "1   https://cdn.sofifa.net/teams/21/60.png   \n",
       "2   https://cdn.sofifa.net/teams/11/60.png   \n",
       "3   https://cdn.sofifa.net/teams/73/60.png   \n",
       "4   https://cdn.sofifa.net/teams/10/60.png   \n",
       "5  https://cdn.sofifa.net/teams/240/60.png   \n",
       "6   https://cdn.sofifa.net/teams/73/60.png   \n",
       "7   https://cdn.sofifa.net/teams/21/60.png   \n",
       "8  https://cdn.sofifa.net/teams/241/60.png   \n",
       "9   https://cdn.sofifa.net/teams/18/60.png   \n",
       "\n",
       "                             club_flag_url  \\\n",
       "0      https://cdn.sofifa.net/flags/fr.png   \n",
       "1      https://cdn.sofifa.net/flags/de.png   \n",
       "2  https://cdn.sofifa.net/flags/gb-eng.png   \n",
       "3      https://cdn.sofifa.net/flags/fr.png   \n",
       "4  https://cdn.sofifa.net/flags/gb-eng.png   \n",
       "5      https://cdn.sofifa.net/flags/es.png   \n",
       "6      https://cdn.sofifa.net/flags/fr.png   \n",
       "7      https://cdn.sofifa.net/flags/de.png   \n",
       "8      https://cdn.sofifa.net/flags/es.png   \n",
       "9  https://cdn.sofifa.net/flags/gb-eng.png   \n",
       "\n",
       "                            nation_logo_url  \\\n",
       "0  https://cdn.sofifa.net/teams/1369/60.png   \n",
       "1  https://cdn.sofifa.net/teams/1353/60.png   \n",
       "2  https://cdn.sofifa.net/teams/1354/60.png   \n",
       "3                                       NaN   \n",
       "4  https://cdn.sofifa.net/teams/1325/60.png   \n",
       "5                                       NaN   \n",
       "6  https://cdn.sofifa.net/teams/1335/60.png   \n",
       "7  https://cdn.sofifa.net/teams/1337/60.png   \n",
       "8                                       NaN   \n",
       "9  https://cdn.sofifa.net/teams/1318/60.png   \n",
       "\n",
       "                           nation_flag_url  \n",
       "0      https://cdn.sofifa.net/flags/ar.png  \n",
       "1      https://cdn.sofifa.net/flags/pl.png  \n",
       "2      https://cdn.sofifa.net/flags/pt.png  \n",
       "3      https://cdn.sofifa.net/flags/br.png  \n",
       "4      https://cdn.sofifa.net/flags/be.png  \n",
       "5      https://cdn.sofifa.net/flags/si.png  \n",
       "6      https://cdn.sofifa.net/flags/fr.png  \n",
       "7      https://cdn.sofifa.net/flags/de.png  \n",
       "8      https://cdn.sofifa.net/flags/de.png  \n",
       "9  https://cdn.sofifa.net/flags/gb-eng.png  \n",
       "\n",
       "[10 rows x 110 columns]"
      ]
     },
     "execution_count": 3,
     "metadata": {},
     "output_type": "execute_result"
    }
   ],
   "source": [
    "players.head(10)"
   ]
  },
  {
   "cell_type": "code",
   "execution_count": 4,
   "id": "bc4ceb6e",
   "metadata": {
    "execution": {
     "iopub.execute_input": "2023-03-30T12:48:53.536912Z",
     "iopub.status.busy": "2023-03-30T12:48:53.535996Z",
     "iopub.status.idle": "2023-03-30T12:48:53.570167Z",
     "shell.execute_reply": "2023-03-30T12:48:53.56874Z",
     "shell.execute_reply.started": "2023-03-30T12:48:53.536867Z"
    }
   },
   "outputs": [
    {
     "data": {
      "text/html": [
       "<div>\n",
       "<style scoped>\n",
       "    .dataframe tbody tr th:only-of-type {\n",
       "        vertical-align: middle;\n",
       "    }\n",
       "\n",
       "    .dataframe tbody tr th {\n",
       "        vertical-align: top;\n",
       "    }\n",
       "\n",
       "    .dataframe thead th {\n",
       "        text-align: right;\n",
       "    }\n",
       "</style>\n",
       "<table border=\"1\" class=\"dataframe\">\n",
       "  <thead>\n",
       "    <tr style=\"text-align: right;\">\n",
       "      <th></th>\n",
       "      <th>overall</th>\n",
       "      <th>potential</th>\n",
       "      <th>wage_eur</th>\n",
       "      <th>value_eur</th>\n",
       "      <th>age</th>\n",
       "    </tr>\n",
       "  </thead>\n",
       "  <tbody>\n",
       "    <tr>\n",
       "      <th>0</th>\n",
       "      <td>93</td>\n",
       "      <td>93</td>\n",
       "      <td>320000.0</td>\n",
       "      <td>78000000.0</td>\n",
       "      <td>34</td>\n",
       "    </tr>\n",
       "    <tr>\n",
       "      <th>1</th>\n",
       "      <td>92</td>\n",
       "      <td>92</td>\n",
       "      <td>270000.0</td>\n",
       "      <td>119500000.0</td>\n",
       "      <td>32</td>\n",
       "    </tr>\n",
       "    <tr>\n",
       "      <th>2</th>\n",
       "      <td>91</td>\n",
       "      <td>91</td>\n",
       "      <td>270000.0</td>\n",
       "      <td>45000000.0</td>\n",
       "      <td>36</td>\n",
       "    </tr>\n",
       "    <tr>\n",
       "      <th>3</th>\n",
       "      <td>91</td>\n",
       "      <td>91</td>\n",
       "      <td>270000.0</td>\n",
       "      <td>129000000.0</td>\n",
       "      <td>29</td>\n",
       "    </tr>\n",
       "    <tr>\n",
       "      <th>4</th>\n",
       "      <td>91</td>\n",
       "      <td>91</td>\n",
       "      <td>350000.0</td>\n",
       "      <td>125500000.0</td>\n",
       "      <td>30</td>\n",
       "    </tr>\n",
       "  </tbody>\n",
       "</table>\n",
       "</div>"
      ],
      "text/plain": [
       "   overall  potential  wage_eur    value_eur  age\n",
       "0       93         93  320000.0   78000000.0   34\n",
       "1       92         92  270000.0  119500000.0   32\n",
       "2       91         91  270000.0   45000000.0   36\n",
       "3       91         91  270000.0  129000000.0   29\n",
       "4       91         91  350000.0  125500000.0   30"
      ]
     },
     "execution_count": 4,
     "metadata": {},
     "output_type": "execute_result"
    }
   ],
   "source": [
    "features = [\"overall\", \"potential\", \"wage_eur\", \"value_eur\", \"age\"]\n",
    "players = players.dropna(subset=features)\n",
    "data = players[features].copy()\n",
    "data.head()"
   ]
  },
  {
   "cell_type": "markdown",
   "id": "822b3e82",
   "metadata": {},
   "source": [
    "# **Pseudocode:**"
   ]
  },
  {
   "cell_type": "markdown",
   "id": "a8913126",
   "metadata": {},
   "source": [
    "1. **Scale data to standardize values**\n",
    "2. **Initialize random centroids**\n",
    "3. **Get labels for each data point**\n",
    "4. **Create new centroids**\n",
    "5. **Plot the centroids**\n",
    "6. **Repeat 3-5 until the centroids stop changing**"
   ]
  },
  {
   "cell_type": "markdown",
   "id": "84a6b7e0",
   "metadata": {},
   "source": [
    " "
   ]
  },
  {
   "cell_type": "markdown",
   "id": "ca166a4e",
   "metadata": {},
   "source": [
    "# 1. **Scale data to standardize values:**"
   ]
  },
  {
   "cell_type": "code",
   "execution_count": 7,
   "id": "cdd398e6",
   "metadata": {
    "execution": {
     "iopub.execute_input": "2023-03-30T12:48:53.572622Z",
     "iopub.status.busy": "2023-03-30T12:48:53.572081Z",
     "iopub.status.idle": "2023-03-30T12:48:53.615821Z",
     "shell.execute_reply": "2023-03-30T12:48:53.614439Z",
     "shell.execute_reply.started": "2023-03-30T12:48:53.572566Z"
    }
   },
   "outputs": [
    {
     "data": {
      "text/html": [
       "<div>\n",
       "<style scoped>\n",
       "    .dataframe tbody tr th:only-of-type {\n",
       "        vertical-align: middle;\n",
       "    }\n",
       "\n",
       "    .dataframe tbody tr th {\n",
       "        vertical-align: top;\n",
       "    }\n",
       "\n",
       "    .dataframe thead th {\n",
       "        text-align: right;\n",
       "    }\n",
       "</style>\n",
       "<table border=\"1\" class=\"dataframe\">\n",
       "  <thead>\n",
       "    <tr style=\"text-align: right;\">\n",
       "      <th></th>\n",
       "      <th>overall</th>\n",
       "      <th>potential</th>\n",
       "      <th>wage_eur</th>\n",
       "      <th>value_eur</th>\n",
       "      <th>age</th>\n",
       "    </tr>\n",
       "  </thead>\n",
       "  <tbody>\n",
       "    <tr>\n",
       "      <th>count</th>\n",
       "      <td>19165.000000</td>\n",
       "      <td>19165.000000</td>\n",
       "      <td>19165.000000</td>\n",
       "      <td>19165.000000</td>\n",
       "      <td>19165.000000</td>\n",
       "    </tr>\n",
       "    <tr>\n",
       "      <th>mean</th>\n",
       "      <td>5.078302</td>\n",
       "      <td>5.799998</td>\n",
       "      <td>1.243826</td>\n",
       "      <td>1.146473</td>\n",
       "      <td>4.403716</td>\n",
       "    </tr>\n",
       "    <tr>\n",
       "      <th>std</th>\n",
       "      <td>1.496262</td>\n",
       "      <td>1.323418</td>\n",
       "      <td>0.557253</td>\n",
       "      <td>0.392477</td>\n",
       "      <td>1.750932</td>\n",
       "    </tr>\n",
       "    <tr>\n",
       "      <th>min</th>\n",
       "      <td>1.000000</td>\n",
       "      <td>1.000000</td>\n",
       "      <td>1.000000</td>\n",
       "      <td>1.000000</td>\n",
       "      <td>1.000000</td>\n",
       "    </tr>\n",
       "    <tr>\n",
       "      <th>25%</th>\n",
       "      <td>4.043478</td>\n",
       "      <td>4.913043</td>\n",
       "      <td>1.014306</td>\n",
       "      <td>1.024022</td>\n",
       "      <td>2.851852</td>\n",
       "    </tr>\n",
       "    <tr>\n",
       "      <th>50%</th>\n",
       "      <td>5.130435</td>\n",
       "      <td>5.782609</td>\n",
       "      <td>1.071531</td>\n",
       "      <td>1.049796</td>\n",
       "      <td>4.333333</td>\n",
       "    </tr>\n",
       "    <tr>\n",
       "      <th>75%</th>\n",
       "      <td>6.000000</td>\n",
       "      <td>6.652174</td>\n",
       "      <td>1.214592</td>\n",
       "      <td>1.102634</td>\n",
       "      <td>5.814815</td>\n",
       "    </tr>\n",
       "    <tr>\n",
       "      <th>max</th>\n",
       "      <td>11.000000</td>\n",
       "      <td>11.000000</td>\n",
       "      <td>11.000000</td>\n",
       "      <td>11.000000</td>\n",
       "      <td>11.000000</td>\n",
       "    </tr>\n",
       "  </tbody>\n",
       "</table>\n",
       "</div>"
      ],
      "text/plain": [
       "            overall     potential      wage_eur     value_eur           age\n",
       "count  19165.000000  19165.000000  19165.000000  19165.000000  19165.000000\n",
       "mean       5.078302      5.799998      1.243826      1.146473      4.403716\n",
       "std        1.496262      1.323418      0.557253      0.392477      1.750932\n",
       "min        1.000000      1.000000      1.000000      1.000000      1.000000\n",
       "25%        4.043478      4.913043      1.014306      1.024022      2.851852\n",
       "50%        5.130435      5.782609      1.071531      1.049796      4.333333\n",
       "75%        6.000000      6.652174      1.214592      1.102634      5.814815\n",
       "max       11.000000     11.000000     11.000000     11.000000     11.000000"
      ]
     },
     "execution_count": 7,
     "metadata": {},
     "output_type": "execute_result"
    }
   ],
   "source": [
    "data = ((data - data.min()) / (data.max() - data.min())) * 10 + 1\n",
    "data.describe()"
   ]
  },
  {
   "cell_type": "code",
   "execution_count": 8,
   "id": "67fb3b43",
   "metadata": {
    "execution": {
     "iopub.execute_input": "2023-03-30T12:48:53.620048Z",
     "iopub.status.busy": "2023-03-30T12:48:53.619559Z",
     "iopub.status.idle": "2023-03-30T12:48:53.633896Z",
     "shell.execute_reply": "2023-03-30T12:48:53.632581Z",
     "shell.execute_reply.started": "2023-03-30T12:48:53.619993Z"
    }
   },
   "outputs": [
    {
     "data": {
      "text/html": [
       "<div>\n",
       "<style scoped>\n",
       "    .dataframe tbody tr th:only-of-type {\n",
       "        vertical-align: middle;\n",
       "    }\n",
       "\n",
       "    .dataframe tbody tr th {\n",
       "        vertical-align: top;\n",
       "    }\n",
       "\n",
       "    .dataframe thead th {\n",
       "        text-align: right;\n",
       "    }\n",
       "</style>\n",
       "<table border=\"1\" class=\"dataframe\">\n",
       "  <thead>\n",
       "    <tr style=\"text-align: right;\">\n",
       "      <th></th>\n",
       "      <th>overall</th>\n",
       "      <th>potential</th>\n",
       "      <th>wage_eur</th>\n",
       "      <th>value_eur</th>\n",
       "      <th>age</th>\n",
       "    </tr>\n",
       "  </thead>\n",
       "  <tbody>\n",
       "    <tr>\n",
       "      <th>0</th>\n",
       "      <td>11.000000</td>\n",
       "      <td>10.565217</td>\n",
       "      <td>10.141631</td>\n",
       "      <td>5.020341</td>\n",
       "      <td>7.666667</td>\n",
       "    </tr>\n",
       "    <tr>\n",
       "      <th>1</th>\n",
       "      <td>10.782609</td>\n",
       "      <td>10.347826</td>\n",
       "      <td>8.711016</td>\n",
       "      <td>7.159616</td>\n",
       "      <td>6.925926</td>\n",
       "    </tr>\n",
       "    <tr>\n",
       "      <th>2</th>\n",
       "      <td>10.565217</td>\n",
       "      <td>10.130435</td>\n",
       "      <td>8.711016</td>\n",
       "      <td>3.319231</td>\n",
       "      <td>8.407407</td>\n",
       "    </tr>\n",
       "    <tr>\n",
       "      <th>3</th>\n",
       "      <td>10.565217</td>\n",
       "      <td>10.130435</td>\n",
       "      <td>8.711016</td>\n",
       "      <td>7.649329</td>\n",
       "      <td>5.814815</td>\n",
       "    </tr>\n",
       "    <tr>\n",
       "      <th>4</th>\n",
       "      <td>10.565217</td>\n",
       "      <td>10.130435</td>\n",
       "      <td>11.000000</td>\n",
       "      <td>7.468908</td>\n",
       "      <td>6.185185</td>\n",
       "    </tr>\n",
       "  </tbody>\n",
       "</table>\n",
       "</div>"
      ],
      "text/plain": [
       "     overall  potential   wage_eur  value_eur       age\n",
       "0  11.000000  10.565217  10.141631   5.020341  7.666667\n",
       "1  10.782609  10.347826   8.711016   7.159616  6.925926\n",
       "2  10.565217  10.130435   8.711016   3.319231  8.407407\n",
       "3  10.565217  10.130435   8.711016   7.649329  5.814815\n",
       "4  10.565217  10.130435  11.000000   7.468908  6.185185"
      ]
     },
     "execution_count": 8,
     "metadata": {},
     "output_type": "execute_result"
    }
   ],
   "source": [
    "data.head()"
   ]
  },
  {
   "cell_type": "markdown",
   "id": "ec71dccc",
   "metadata": {},
   "source": [
    " "
   ]
  },
  {
   "cell_type": "markdown",
   "id": "d5256919",
   "metadata": {},
   "source": [
    "# 2. **Initialize random centroids:**"
   ]
  },
  {
   "cell_type": "code",
   "execution_count": 9,
   "id": "0edf266d",
   "metadata": {
    "execution": {
     "iopub.execute_input": "2023-03-30T12:48:53.636063Z",
     "iopub.status.busy": "2023-03-30T12:48:53.635615Z",
     "iopub.status.idle": "2023-03-30T12:48:53.646596Z",
     "shell.execute_reply": "2023-03-30T12:48:53.645099Z",
     "shell.execute_reply.started": "2023-03-30T12:48:53.636014Z"
    }
   },
   "outputs": [],
   "source": [
    "def random_centroids(data, k):\n",
    "    centroids = []\n",
    "    for i in range(k):\n",
    "        centroid = data.apply(lambda x: float(x.sample()))\n",
    "        centroids.append(centroid)\n",
    "    return pd.concat(centroids, axis=1)\n"
   ]
  },
  {
   "cell_type": "code",
   "execution_count": 10,
   "id": "ed9bec05",
   "metadata": {
    "execution": {
     "iopub.execute_input": "2023-03-30T12:48:53.6489Z",
     "iopub.status.busy": "2023-03-30T12:48:53.648424Z",
     "iopub.status.idle": "2023-03-30T12:48:53.680853Z",
     "shell.execute_reply": "2023-03-30T12:48:53.679139Z",
     "shell.execute_reply.started": "2023-03-30T12:48:53.648862Z"
    }
   },
   "outputs": [
    {
     "data": {
      "text/html": [
       "<div>\n",
       "<style scoped>\n",
       "    .dataframe tbody tr th:only-of-type {\n",
       "        vertical-align: middle;\n",
       "    }\n",
       "\n",
       "    .dataframe tbody tr th {\n",
       "        vertical-align: top;\n",
       "    }\n",
       "\n",
       "    .dataframe thead th {\n",
       "        text-align: right;\n",
       "    }\n",
       "</style>\n",
       "<table border=\"1\" class=\"dataframe\">\n",
       "  <thead>\n",
       "    <tr style=\"text-align: right;\">\n",
       "      <th></th>\n",
       "      <th>0</th>\n",
       "      <th>1</th>\n",
       "      <th>2</th>\n",
       "    </tr>\n",
       "  </thead>\n",
       "  <tbody>\n",
       "    <tr>\n",
       "      <th>overall</th>\n",
       "      <td>7.739130</td>\n",
       "      <td>5.565217</td>\n",
       "      <td>7.521739</td>\n",
       "    </tr>\n",
       "    <tr>\n",
       "      <th>potential</th>\n",
       "      <td>4.260870</td>\n",
       "      <td>6.217391</td>\n",
       "      <td>7.304348</td>\n",
       "    </tr>\n",
       "    <tr>\n",
       "      <th>wage_eur</th>\n",
       "      <td>1.014306</td>\n",
       "      <td>1.005722</td>\n",
       "      <td>1.010014</td>\n",
       "    </tr>\n",
       "    <tr>\n",
       "      <th>value_eur</th>\n",
       "      <td>1.308829</td>\n",
       "      <td>1.066549</td>\n",
       "      <td>1.149028</td>\n",
       "    </tr>\n",
       "    <tr>\n",
       "      <th>age</th>\n",
       "      <td>3.592593</td>\n",
       "      <td>5.074074</td>\n",
       "      <td>1.740741</td>\n",
       "    </tr>\n",
       "  </tbody>\n",
       "</table>\n",
       "</div>"
      ],
      "text/plain": [
       "                  0         1         2\n",
       "overall    7.739130  5.565217  7.521739\n",
       "potential  4.260870  6.217391  7.304348\n",
       "wage_eur   1.014306  1.005722  1.010014\n",
       "value_eur  1.308829  1.066549  1.149028\n",
       "age        3.592593  5.074074  1.740741"
      ]
     },
     "execution_count": 10,
     "metadata": {},
     "output_type": "execute_result"
    }
   ],
   "source": [
    "centroids = random_centroids(data, 3)\n",
    "centroids"
   ]
  },
  {
   "cell_type": "markdown",
   "id": "03c113de",
   "metadata": {},
   "source": [
    "# 3. **Get labels for each data point:**"
   ]
  },
  {
   "cell_type": "code",
   "execution_count": 11,
   "id": "93ca9ffa",
   "metadata": {
    "execution": {
     "iopub.execute_input": "2023-03-30T12:48:53.683423Z",
     "iopub.status.busy": "2023-03-30T12:48:53.682524Z",
     "iopub.status.idle": "2023-03-30T12:48:53.693271Z",
     "shell.execute_reply": "2023-03-30T12:48:53.691763Z",
     "shell.execute_reply.started": "2023-03-30T12:48:53.683346Z"
    }
   },
   "outputs": [],
   "source": [
    "def get_labels(data, centroids):\n",
    "    distances = centroids.apply(lambda x: np.sqrt(((data - x) ** 2).sum(axis=1)))\n",
    "    print(distances.head(10)) #show me the distance of each row to each centroid\n",
    "    return distances.idxmin(axis=1)"
   ]
  },
  {
   "cell_type": "code",
   "execution_count": 12,
   "id": "15442f54",
   "metadata": {
    "execution": {
     "iopub.execute_input": "2023-03-30T12:48:53.69599Z",
     "iopub.status.busy": "2023-03-30T12:48:53.695522Z",
     "iopub.status.idle": "2023-03-30T12:48:53.743453Z",
     "shell.execute_reply": "2023-03-30T12:48:53.741837Z",
     "shell.execute_reply.started": "2023-03-30T12:48:53.695941Z"
    }
   },
   "outputs": [
    {
     "name": "stdout",
     "output_type": "stream",
     "text": [
      "           0          1          2\n",
      "0  12.808573  12.420116  12.498866\n",
      "1  12.283972  12.008664  11.925383\n",
      "2  11.353504  10.764253  11.212010\n",
      "3  12.116853  11.981867  11.636449\n",
      "4  13.668239  13.506378  13.294485\n",
      "5   9.728385   9.502166   8.882432\n",
      "6  13.798195  13.893173  12.850870\n",
      "7   8.035532   7.187665   7.789077\n",
      "8  11.069570  10.804044  10.450228\n",
      "9  11.324288  11.273178  10.738457\n",
      "=========================================================\n"
     ]
    },
    {
     "data": {
      "text/plain": [
       "0        1\n",
       "1        2\n",
       "2        1\n",
       "3        2\n",
       "4        2\n",
       "        ..\n",
       "19234    1\n",
       "19235    1\n",
       "19236    1\n",
       "19237    1\n",
       "19238    1\n",
       "Length: 19165, dtype: int64"
      ]
     },
     "execution_count": 12,
     "metadata": {},
     "output_type": "execute_result"
    }
   ],
   "source": [
    "labels = get_labels(data, centroids)\n",
    "print(\"=========================================================\")\n",
    "labels"
   ]
  },
  {
   "cell_type": "code",
   "execution_count": 13,
   "id": "ac0a496a",
   "metadata": {
    "execution": {
     "iopub.execute_input": "2023-03-30T12:48:53.746135Z",
     "iopub.status.busy": "2023-03-30T12:48:53.745763Z",
     "iopub.status.idle": "2023-03-30T12:48:53.75551Z",
     "shell.execute_reply": "2023-03-30T12:48:53.75389Z",
     "shell.execute_reply.started": "2023-03-30T12:48:53.746099Z"
    }
   },
   "outputs": [
    {
     "data": {
      "text/plain": [
       "1    16986\n",
       "2     2148\n",
       "0       31\n",
       "dtype: int64"
      ]
     },
     "execution_count": 13,
     "metadata": {},
     "output_type": "execute_result"
    }
   ],
   "source": [
    "labels.value_counts()"
   ]
  },
  {
   "cell_type": "markdown",
   "id": "b80e3763",
   "metadata": {},
   "source": [
    " "
   ]
  },
  {
   "cell_type": "markdown",
   "id": "f8251a80",
   "metadata": {},
   "source": [
    "# 4. **Create new centroids:**"
   ]
  },
  {
   "cell_type": "code",
   "execution_count": 14,
   "id": "ff5ab5a5",
   "metadata": {
    "execution": {
     "iopub.execute_input": "2023-03-30T12:48:53.760277Z",
     "iopub.status.busy": "2023-03-30T12:48:53.759864Z",
     "iopub.status.idle": "2023-03-30T12:48:53.766719Z",
     "shell.execute_reply": "2023-03-30T12:48:53.765504Z",
     "shell.execute_reply.started": "2023-03-30T12:48:53.760233Z"
    }
   },
   "outputs": [],
   "source": [
    "def new_centroids(data, labels, k):\n",
    "    centroids = data.groupby(labels).apply(lambda x: np.exp(np.log(x).mean())).T\n",
    "    return centroids"
   ]
  },
  {
   "cell_type": "markdown",
   "id": "596c65d5",
   "metadata": {},
   "source": [
    " "
   ]
  },
  {
   "cell_type": "markdown",
   "id": "382084e4",
   "metadata": {},
   "source": [
    "# 5. **Plot the centroids:**"
   ]
  },
  {
   "cell_type": "code",
   "execution_count": 15,
   "id": "92afcb6b",
   "metadata": {
    "execution": {
     "iopub.execute_input": "2023-03-30T12:48:53.768098Z",
     "iopub.status.busy": "2023-03-30T12:48:53.767762Z",
     "iopub.status.idle": "2023-03-30T12:48:53.78135Z",
     "shell.execute_reply": "2023-03-30T12:48:53.779651Z",
     "shell.execute_reply.started": "2023-03-30T12:48:53.768066Z"
    }
   },
   "outputs": [],
   "source": [
    "from sklearn.decomposition import PCA\n",
    "import matplotlib.pyplot as plt\n",
    "from IPython.display import clear_output\n",
    "def plot_clusters(data, labels, centroids, iteration):\n",
    "    pca = PCA(n_components=2)\n",
    "    data_2d = pca.fit_transform(data)\n",
    "    centroids_2d = pca.transform(centroids.T)\n",
    "    clear_output(wait=True)\n",
    "    plt.title(f'Iteration {iteration}')\n",
    "    plt.scatter(x=data_2d[:,0], y=data_2d[:,1], c=labels)\n",
    "    plt.scatter(x=centroids_2d[:,0], y=centroids_2d[:,1])\n",
    "    plt.show()"
   ]
  },
  {
   "cell_type": "markdown",
   "id": "ee19e949",
   "metadata": {},
   "source": [
    " "
   ]
  },
  {
   "cell_type": "markdown",
   "id": "356fee88",
   "metadata": {},
   "source": [
    "# 6. **Repeat 3-5 until the centroids stop changing:**"
   ]
  },
  {
   "cell_type": "code",
   "execution_count": 21,
   "id": "bf0d3a75",
   "metadata": {
    "execution": {
     "iopub.execute_input": "2023-03-30T12:48:53.783831Z",
     "iopub.status.busy": "2023-03-30T12:48:53.783101Z",
     "iopub.status.idle": "2023-03-30T12:49:09.118107Z",
     "shell.execute_reply": "2023-03-30T12:49:09.116601Z",
     "shell.execute_reply.started": "2023-03-30T12:48:53.783703Z"
    }
   },
   "outputs": [
    {
     "data": {
      "image/png": "[encoded data removed]",
      "text/plain": [
       "<Figure size 640x480 with 1 Axes>"
      ]
     },
     "metadata": {},
     "output_type": "display_data"
    }
   ],
   "source": [
    "max_iterations = 3\n",
    "centroid_count = 3\n",
    "\n",
    "centroids = random_centroids(data, centroid_count)\n",
    "old_centroids = pd.DataFrame()\n",
    "iteration = 1\n",
    "\n",
    "while iteration < max_iterations and not centroids.equals(old_centroids):\n",
    "    old_centroids = centroids\n",
    "    \n",
    "    labels = get_labels(data, centroids)\n",
    "    centroids = new_centroids(data, labels, centroid_count)\n",
    "    plot_clusters(data, labels, centroids, iteration)\n",
    "    iteration += 1\n"
   ]
  },
  {
   "cell_type": "code",
   "execution_count": 19,
   "id": "0b6e4d4f",
   "metadata": {
    "execution": {
     "iopub.execute_input": "2023-03-30T12:49:09.120075Z",
     "iopub.status.busy": "2023-03-30T12:49:09.119692Z",
     "iopub.status.idle": "2023-03-30T12:49:09.133274Z",
     "shell.execute_reply": "2023-03-30T12:49:09.131733Z",
     "shell.execute_reply.started": "2023-03-30T12:49:09.120038Z"
    }
   },
   "outputs": [
    {
     "data": {
      "text/html": [
       "<div>\n",
       "<style scoped>\n",
       "    .dataframe tbody tr th:only-of-type {\n",
       "        vertical-align: middle;\n",
       "    }\n",
       "\n",
       "    .dataframe tbody tr th {\n",
       "        vertical-align: top;\n",
       "    }\n",
       "\n",
       "    .dataframe thead th {\n",
       "        text-align: right;\n",
       "    }\n",
       "</style>\n",
       "<table border=\"1\" class=\"dataframe\">\n",
       "  <thead>\n",
       "    <tr style=\"text-align: right;\">\n",
       "      <th></th>\n",
       "      <th>0</th>\n",
       "      <th>1</th>\n",
       "      <th>2</th>\n",
       "    </tr>\n",
       "  </thead>\n",
       "  <tbody>\n",
       "    <tr>\n",
       "      <th>overall</th>\n",
       "      <td>3.443294</td>\n",
       "      <td>6.336567</td>\n",
       "      <td>5.200401</td>\n",
       "    </tr>\n",
       "    <tr>\n",
       "      <th>potential</th>\n",
       "      <td>5.362259</td>\n",
       "      <td>7.107863</td>\n",
       "      <td>4.894314</td>\n",
       "    </tr>\n",
       "    <tr>\n",
       "      <th>wage_eur</th>\n",
       "      <td>1.031502</td>\n",
       "      <td>1.460086</td>\n",
       "      <td>1.130802</td>\n",
       "    </tr>\n",
       "    <tr>\n",
       "      <th>value_eur</th>\n",
       "      <td>1.029525</td>\n",
       "      <td>1.313192</td>\n",
       "      <td>1.049844</td>\n",
       "    </tr>\n",
       "    <tr>\n",
       "      <th>age</th>\n",
       "      <td>2.678624</td>\n",
       "      <td>3.877681</td>\n",
       "      <td>5.962199</td>\n",
       "    </tr>\n",
       "  </tbody>\n",
       "</table>\n",
       "</div>"
      ],
      "text/plain": [
       "                  0         1         2\n",
       "overall    3.443294  6.336567  5.200401\n",
       "potential  5.362259  7.107863  4.894314\n",
       "wage_eur   1.031502  1.460086  1.130802\n",
       "value_eur  1.029525  1.313192  1.049844\n",
       "age        2.678624  3.877681  5.962199"
      ]
     },
     "execution_count": 19,
     "metadata": {},
     "output_type": "execute_result"
    }
   ],
   "source": [
    "centroids"
   ]
  },
  {
   "cell_type": "code",
   "execution_count": 27,
   "id": "f37e657c",
   "metadata": {
    "execution": {
     "iopub.execute_input": "2023-03-30T12:49:09.135699Z",
     "iopub.status.busy": "2023-03-30T12:49:09.135178Z",
     "iopub.status.idle": "2023-03-30T12:49:09.1509Z",
     "shell.execute_reply": "2023-03-30T12:49:09.149288Z",
     "shell.execute_reply.started": "2023-03-30T12:49:09.135644Z"
    }
   },
   "outputs": [
    {
     "data": {
      "text/plain": [
       "0    7192\n",
       "2    6198\n",
       "1    5775\n",
       "dtype: int64"
      ]
     },
     "execution_count": 27,
     "metadata": {},
     "output_type": "execute_result"
    }
   ],
   "source": [
    "labels.value_counts()"
   ]
  },
  {
   "cell_type": "code",
   "execution_count": 20,
   "id": "b8d1e38d",
   "metadata": {
    "execution": {
     "iopub.execute_input": "2023-03-30T12:49:09.154638Z",
     "iopub.status.busy": "2023-03-30T12:49:09.152525Z",
     "iopub.status.idle": "2023-03-30T12:49:10.650763Z",
     "shell.execute_reply": "2023-03-30T12:49:10.64952Z",
     "shell.execute_reply.started": "2023-03-30T12:49:09.154579Z"
    }
   },
   "outputs": [
    {
     "name": "stderr",
     "output_type": "stream",
     "text": [
      "C:\\Users\\iyers\\anaconda3\\lib\\site-packages\\sklearn\\cluster\\_kmeans.py:870: FutureWarning: The default value of `n_init` will change from 10 to 'auto' in 1.4. Set the value of `n_init` explicitly to suppress the warning\n",
      "  warnings.warn(\n"
     ]
    },
    {
     "data": {
      "text/html": [
       "<div>\n",
       "<style scoped>\n",
       "    .dataframe tbody tr th:only-of-type {\n",
       "        vertical-align: middle;\n",
       "    }\n",
       "\n",
       "    .dataframe tbody tr th {\n",
       "        vertical-align: top;\n",
       "    }\n",
       "\n",
       "    .dataframe thead th {\n",
       "        text-align: right;\n",
       "    }\n",
       "</style>\n",
       "<table border=\"1\" class=\"dataframe\">\n",
       "  <thead>\n",
       "    <tr style=\"text-align: right;\">\n",
       "      <th></th>\n",
       "      <th>0</th>\n",
       "      <th>1</th>\n",
       "      <th>2</th>\n",
       "    </tr>\n",
       "  </thead>\n",
       "  <tbody>\n",
       "    <tr>\n",
       "      <th>overall</th>\n",
       "      <td>5.225255</td>\n",
       "      <td>3.870676</td>\n",
       "      <td>6.793807</td>\n",
       "    </tr>\n",
       "    <tr>\n",
       "      <th>potential</th>\n",
       "      <td>4.897224</td>\n",
       "      <td>5.664944</td>\n",
       "      <td>7.239144</td>\n",
       "    </tr>\n",
       "    <tr>\n",
       "      <th>wage_eur</th>\n",
       "      <td>1.125638</td>\n",
       "      <td>1.043673</td>\n",
       "      <td>1.721577</td>\n",
       "    </tr>\n",
       "    <tr>\n",
       "      <th>value_eur</th>\n",
       "      <td>1.044584</td>\n",
       "      <td>1.039167</td>\n",
       "      <td>1.454883</td>\n",
       "    </tr>\n",
       "    <tr>\n",
       "      <th>age</th>\n",
       "      <td>6.117355</td>\n",
       "      <td>2.894905</td>\n",
       "      <td>4.470936</td>\n",
       "    </tr>\n",
       "  </tbody>\n",
       "</table>\n",
       "</div>"
      ],
      "text/plain": [
       "                  0         1         2\n",
       "overall    5.225255  3.870676  6.793807\n",
       "potential  4.897224  5.664944  7.239144\n",
       "wage_eur   1.125638  1.043673  1.721577\n",
       "value_eur  1.044584  1.039167  1.454883\n",
       "age        6.117355  2.894905  4.470936"
      ]
     },
     "execution_count": 20,
     "metadata": {},
     "output_type": "execute_result"
    }
   ],
   "source": [
    "from sklearn.cluster import KMeans\n",
    "kmeans = KMeans(3)\n",
    "kmeans.fit(data)\n",
    "pd.DataFrame(kmeans.cluster_centers_, columns=features).T"
   ]
  },
  {
   "cell_type": "code",
   "execution_count": 33,
   "id": "37d0cdc0-f1fc-40fe-8e57-aea13bac6112",
   "metadata": {},
   "outputs": [
    {
     "name": "stderr",
     "output_type": "stream",
     "text": [
      "C:\\Users\\iyers\\AppData\\Local\\Temp\\ipykernel_20252\\3800763841.py:1: DtypeWarning: Columns (25,108) have mixed types. Specify dtype option on import or set low_memory=False.\n",
      "  players = pd.read_csv(\"players_22.csv\")\n"
     ]
    }
   ],
   "source": [
    "players = pd.read_csv(\"players_22.csv\")\n",
    "features = [\"overall\", \"potential\", \"wage_eur\", \"value_eur\", \"age\"]"
   ]
  },
  {
   "cell_type": "code",
   "execution_count": 34,
   "id": "b0b882b1-3907-442d-834b-f994bfa49125",
   "metadata": {},
   "outputs": [],
   "source": [
    "players = players.dropna(subset=features)"
   ]
  },
  {
   "cell_type": "code",
   "execution_count": 35,
   "id": "1588331f-826b-4582-a8c4-8a313dcb5f98",
   "metadata": {},
   "outputs": [],
   "source": [
    "data = players[features].copy()"
   ]
  },
  {
   "cell_type": "code",
   "execution_count": 36,
   "id": "ef79f9ce-b5b3-4f2a-9c90-55cecbdb99bd",
   "metadata": {},
   "outputs": [
    {
     "data": {
      "text/html": [
       "<div>\n",
       "<style scoped>\n",
       "    .dataframe tbody tr th:only-of-type {\n",
       "        vertical-align: middle;\n",
       "    }\n",
       "\n",
       "    .dataframe tbody tr th {\n",
       "        vertical-align: top;\n",
       "    }\n",
       "\n",
       "    .dataframe thead th {\n",
       "        text-align: right;\n",
       "    }\n",
       "</style>\n",
       "<table border=\"1\" class=\"dataframe\">\n",
       "  <thead>\n",
       "    <tr style=\"text-align: right;\">\n",
       "      <th></th>\n",
       "      <th>overall</th>\n",
       "      <th>potential</th>\n",
       "      <th>wage_eur</th>\n",
       "      <th>value_eur</th>\n",
       "      <th>age</th>\n",
       "    </tr>\n",
       "  </thead>\n",
       "  <tbody>\n",
       "    <tr>\n",
       "      <th>0</th>\n",
       "      <td>93</td>\n",
       "      <td>93</td>\n",
       "      <td>320000.0</td>\n",
       "      <td>78000000.0</td>\n",
       "      <td>34</td>\n",
       "    </tr>\n",
       "    <tr>\n",
       "      <th>1</th>\n",
       "      <td>92</td>\n",
       "      <td>92</td>\n",
       "      <td>270000.0</td>\n",
       "      <td>119500000.0</td>\n",
       "      <td>32</td>\n",
       "    </tr>\n",
       "    <tr>\n",
       "      <th>2</th>\n",
       "      <td>91</td>\n",
       "      <td>91</td>\n",
       "      <td>270000.0</td>\n",
       "      <td>45000000.0</td>\n",
       "      <td>36</td>\n",
       "    </tr>\n",
       "    <tr>\n",
       "      <th>3</th>\n",
       "      <td>91</td>\n",
       "      <td>91</td>\n",
       "      <td>270000.0</td>\n",
       "      <td>129000000.0</td>\n",
       "      <td>29</td>\n",
       "    </tr>\n",
       "    <tr>\n",
       "      <th>4</th>\n",
       "      <td>91</td>\n",
       "      <td>91</td>\n",
       "      <td>350000.0</td>\n",
       "      <td>125500000.0</td>\n",
       "      <td>30</td>\n",
       "    </tr>\n",
       "    <tr>\n",
       "      <th>...</th>\n",
       "      <td>...</td>\n",
       "      <td>...</td>\n",
       "      <td>...</td>\n",
       "      <td>...</td>\n",
       "      <td>...</td>\n",
       "    </tr>\n",
       "    <tr>\n",
       "      <th>19234</th>\n",
       "      <td>47</td>\n",
       "      <td>52</td>\n",
       "      <td>1000.0</td>\n",
       "      <td>70000.0</td>\n",
       "      <td>22</td>\n",
       "    </tr>\n",
       "    <tr>\n",
       "      <th>19235</th>\n",
       "      <td>47</td>\n",
       "      <td>59</td>\n",
       "      <td>500.0</td>\n",
       "      <td>110000.0</td>\n",
       "      <td>19</td>\n",
       "    </tr>\n",
       "    <tr>\n",
       "      <th>19236</th>\n",
       "      <td>47</td>\n",
       "      <td>55</td>\n",
       "      <td>500.0</td>\n",
       "      <td>100000.0</td>\n",
       "      <td>21</td>\n",
       "    </tr>\n",
       "    <tr>\n",
       "      <th>19237</th>\n",
       "      <td>47</td>\n",
       "      <td>60</td>\n",
       "      <td>500.0</td>\n",
       "      <td>110000.0</td>\n",
       "      <td>19</td>\n",
       "    </tr>\n",
       "    <tr>\n",
       "      <th>19238</th>\n",
       "      <td>47</td>\n",
       "      <td>60</td>\n",
       "      <td>500.0</td>\n",
       "      <td>110000.0</td>\n",
       "      <td>19</td>\n",
       "    </tr>\n",
       "  </tbody>\n",
       "</table>\n",
       "<p>19165 rows × 5 columns</p>\n",
       "</div>"
      ],
      "text/plain": [
       "       overall  potential  wage_eur    value_eur  age\n",
       "0           93         93  320000.0   78000000.0   34\n",
       "1           92         92  270000.0  119500000.0   32\n",
       "2           91         91  270000.0   45000000.0   36\n",
       "3           91         91  270000.0  129000000.0   29\n",
       "4           91         91  350000.0  125500000.0   30\n",
       "...        ...        ...       ...          ...  ...\n",
       "19234       47         52    1000.0      70000.0   22\n",
       "19235       47         59     500.0     110000.0   19\n",
       "19236       47         55     500.0     100000.0   21\n",
       "19237       47         60     500.0     110000.0   19\n",
       "19238       47         60     500.0     110000.0   19\n",
       "\n",
       "[19165 rows x 5 columns]"
      ]
     },
     "execution_count": 36,
     "metadata": {},
     "output_type": "execute_result"
    }
   ],
   "source": [
    "data"
   ]
  },
  {
   "cell_type": "markdown",
   "id": "ad192657-fd2e-4ad7-a65a-e2569f88a708",
   "metadata": {},
   "source": [
    "# Pseudocode\n",
    "\n",
    "## High level\n",
    "\n",
    "1. Scale data to standardize values\n",
    "2. Initialize random centroids\n",
    "3. Get labels for each data point\n",
    "4. Create new centroids\n",
    "5. Plot the centroids\n",
    "6. Repeat 3-5 until the centroids stop changing"
   ]
  },
  {
   "cell_type": "code",
   "execution_count": 37,
   "id": "4185a602-c80d-4708-b545-f991f34295f2",
   "metadata": {},
   "outputs": [],
   "source": [
    "data = ((data - data.min()) / (data.max() - data.min())) * 10 + 1"
   ]
  },
  {
   "cell_type": "code",
   "execution_count": 38,
   "id": "e4858a59-3087-458d-9374-5fea68129832",
   "metadata": {},
   "outputs": [
    {
     "data": {
      "text/html": [
       "<div>\n",
       "<style scoped>\n",
       "    .dataframe tbody tr th:only-of-type {\n",
       "        vertical-align: middle;\n",
       "    }\n",
       "\n",
       "    .dataframe tbody tr th {\n",
       "        vertical-align: top;\n",
       "    }\n",
       "\n",
       "    .dataframe thead th {\n",
       "        text-align: right;\n",
       "    }\n",
       "</style>\n",
       "<table border=\"1\" class=\"dataframe\">\n",
       "  <thead>\n",
       "    <tr style=\"text-align: right;\">\n",
       "      <th></th>\n",
       "      <th>overall</th>\n",
       "      <th>potential</th>\n",
       "      <th>wage_eur</th>\n",
       "      <th>value_eur</th>\n",
       "      <th>age</th>\n",
       "    </tr>\n",
       "  </thead>\n",
       "  <tbody>\n",
       "    <tr>\n",
       "      <th>count</th>\n",
       "      <td>19165.000000</td>\n",
       "      <td>19165.000000</td>\n",
       "      <td>19165.000000</td>\n",
       "      <td>19165.000000</td>\n",
       "      <td>19165.000000</td>\n",
       "    </tr>\n",
       "    <tr>\n",
       "      <th>mean</th>\n",
       "      <td>5.078302</td>\n",
       "      <td>5.799998</td>\n",
       "      <td>1.243826</td>\n",
       "      <td>1.146473</td>\n",
       "      <td>4.403716</td>\n",
       "    </tr>\n",
       "    <tr>\n",
       "      <th>std</th>\n",
       "      <td>1.496262</td>\n",
       "      <td>1.323418</td>\n",
       "      <td>0.557253</td>\n",
       "      <td>0.392477</td>\n",
       "      <td>1.750932</td>\n",
       "    </tr>\n",
       "    <tr>\n",
       "      <th>min</th>\n",
       "      <td>1.000000</td>\n",
       "      <td>1.000000</td>\n",
       "      <td>1.000000</td>\n",
       "      <td>1.000000</td>\n",
       "      <td>1.000000</td>\n",
       "    </tr>\n",
       "    <tr>\n",
       "      <th>25%</th>\n",
       "      <td>4.043478</td>\n",
       "      <td>4.913043</td>\n",
       "      <td>1.014306</td>\n",
       "      <td>1.024022</td>\n",
       "      <td>2.851852</td>\n",
       "    </tr>\n",
       "    <tr>\n",
       "      <th>50%</th>\n",
       "      <td>5.130435</td>\n",
       "      <td>5.782609</td>\n",
       "      <td>1.071531</td>\n",
       "      <td>1.049796</td>\n",
       "      <td>4.333333</td>\n",
       "    </tr>\n",
       "    <tr>\n",
       "      <th>75%</th>\n",
       "      <td>6.000000</td>\n",
       "      <td>6.652174</td>\n",
       "      <td>1.214592</td>\n",
       "      <td>1.102634</td>\n",
       "      <td>5.814815</td>\n",
       "    </tr>\n",
       "    <tr>\n",
       "      <th>max</th>\n",
       "      <td>11.000000</td>\n",
       "      <td>11.000000</td>\n",
       "      <td>11.000000</td>\n",
       "      <td>11.000000</td>\n",
       "      <td>11.000000</td>\n",
       "    </tr>\n",
       "  </tbody>\n",
       "</table>\n",
       "</div>"
      ],
      "text/plain": [
       "            overall     potential      wage_eur     value_eur           age\n",
       "count  19165.000000  19165.000000  19165.000000  19165.000000  19165.000000\n",
       "mean       5.078302      5.799998      1.243826      1.146473      4.403716\n",
       "std        1.496262      1.323418      0.557253      0.392477      1.750932\n",
       "min        1.000000      1.000000      1.000000      1.000000      1.000000\n",
       "25%        4.043478      4.913043      1.014306      1.024022      2.851852\n",
       "50%        5.130435      5.782609      1.071531      1.049796      4.333333\n",
       "75%        6.000000      6.652174      1.214592      1.102634      5.814815\n",
       "max       11.000000     11.000000     11.000000     11.000000     11.000000"
      ]
     },
     "execution_count": 38,
     "metadata": {},
     "output_type": "execute_result"
    }
   ],
   "source": [
    "data.describe()"
   ]
  },
  {
   "cell_type": "code",
   "execution_count": 39,
   "id": "f2ca8180-9afe-4b53-9afc-2ef134df9613",
   "metadata": {},
   "outputs": [
    {
     "data": {
      "text/html": [
       "<div>\n",
       "<style scoped>\n",
       "    .dataframe tbody tr th:only-of-type {\n",
       "        vertical-align: middle;\n",
       "    }\n",
       "\n",
       "    .dataframe tbody tr th {\n",
       "        vertical-align: top;\n",
       "    }\n",
       "\n",
       "    .dataframe thead th {\n",
       "        text-align: right;\n",
       "    }\n",
       "</style>\n",
       "<table border=\"1\" class=\"dataframe\">\n",
       "  <thead>\n",
       "    <tr style=\"text-align: right;\">\n",
       "      <th></th>\n",
       "      <th>overall</th>\n",
       "      <th>potential</th>\n",
       "      <th>wage_eur</th>\n",
       "      <th>value_eur</th>\n",
       "      <th>age</th>\n",
       "    </tr>\n",
       "  </thead>\n",
       "  <tbody>\n",
       "    <tr>\n",
       "      <th>0</th>\n",
       "      <td>11.000000</td>\n",
       "      <td>10.565217</td>\n",
       "      <td>10.141631</td>\n",
       "      <td>5.020341</td>\n",
       "      <td>7.666667</td>\n",
       "    </tr>\n",
       "    <tr>\n",
       "      <th>1</th>\n",
       "      <td>10.782609</td>\n",
       "      <td>10.347826</td>\n",
       "      <td>8.711016</td>\n",
       "      <td>7.159616</td>\n",
       "      <td>6.925926</td>\n",
       "    </tr>\n",
       "    <tr>\n",
       "      <th>2</th>\n",
       "      <td>10.565217</td>\n",
       "      <td>10.130435</td>\n",
       "      <td>8.711016</td>\n",
       "      <td>3.319231</td>\n",
       "      <td>8.407407</td>\n",
       "    </tr>\n",
       "    <tr>\n",
       "      <th>3</th>\n",
       "      <td>10.565217</td>\n",
       "      <td>10.130435</td>\n",
       "      <td>8.711016</td>\n",
       "      <td>7.649329</td>\n",
       "      <td>5.814815</td>\n",
       "    </tr>\n",
       "    <tr>\n",
       "      <th>4</th>\n",
       "      <td>10.565217</td>\n",
       "      <td>10.130435</td>\n",
       "      <td>11.000000</td>\n",
       "      <td>7.468908</td>\n",
       "      <td>6.185185</td>\n",
       "    </tr>\n",
       "  </tbody>\n",
       "</table>\n",
       "</div>"
      ],
      "text/plain": [
       "     overall  potential   wage_eur  value_eur       age\n",
       "0  11.000000  10.565217  10.141631   5.020341  7.666667\n",
       "1  10.782609  10.347826   8.711016   7.159616  6.925926\n",
       "2  10.565217  10.130435   8.711016   3.319231  8.407407\n",
       "3  10.565217  10.130435   8.711016   7.649329  5.814815\n",
       "4  10.565217  10.130435  11.000000   7.468908  6.185185"
      ]
     },
     "execution_count": 39,
     "metadata": {},
     "output_type": "execute_result"
    }
   ],
   "source": [
    "data.head()"
   ]
  },
  {
   "cell_type": "code",
   "execution_count": 40,
   "id": "cd372928-c4df-4ec1-a92a-e41eb87a6116",
   "metadata": {},
   "outputs": [],
   "source": [
    "def random_centroids(data, k):\n",
    "    centroids = []\n",
    "    for i in range(k):\n",
    "        centroid = data.apply(lambda x: float(x.sample()))\n",
    "        centroids.append(centroid)\n",
    "    return pd.concat(centroids, axis=1)"
   ]
  },
  {
   "cell_type": "code",
   "execution_count": 41,
   "id": "84c93aad-cb6a-436f-831d-e476f2c3249c",
   "metadata": {},
   "outputs": [],
   "source": [
    "centroids = random_centroids(data, 5)"
   ]
  },
  {
   "cell_type": "code",
   "execution_count": 13,
   "id": "c9563d03-8ded-477e-93b3-b9b7e0ac7339",
   "metadata": {},
   "outputs": [
    {
     "data": {
      "text/html": [
       "<div>\n",
       "<style scoped>\n",
       "    .dataframe tbody tr th:only-of-type {\n",
       "        vertical-align: middle;\n",
       "    }\n",
       "\n",
       "    .dataframe tbody tr th {\n",
       "        vertical-align: top;\n",
       "    }\n",
       "\n",
       "    .dataframe thead th {\n",
       "        text-align: right;\n",
       "    }\n",
       "</style>\n",
       "<table border=\"1\" class=\"dataframe\">\n",
       "  <thead>\n",
       "    <tr style=\"text-align: right;\">\n",
       "      <th></th>\n",
       "      <th>0</th>\n",
       "      <th>1</th>\n",
       "      <th>2</th>\n",
       "      <th>3</th>\n",
       "      <th>4</th>\n",
       "    </tr>\n",
       "  </thead>\n",
       "  <tbody>\n",
       "    <tr>\n",
       "      <th>overall</th>\n",
       "      <td>5.347826</td>\n",
       "      <td>2.304348</td>\n",
       "      <td>4.478261</td>\n",
       "      <td>4.478261</td>\n",
       "      <td>6.000000</td>\n",
       "    </tr>\n",
       "    <tr>\n",
       "      <th>potential</th>\n",
       "      <td>4.913043</td>\n",
       "      <td>8.391304</td>\n",
       "      <td>7.956522</td>\n",
       "      <td>4.695652</td>\n",
       "      <td>5.130435</td>\n",
       "    </tr>\n",
       "    <tr>\n",
       "      <th>wage_eur</th>\n",
       "      <td>1.007153</td>\n",
       "      <td>1.987124</td>\n",
       "      <td>1.157368</td>\n",
       "      <td>1.042918</td>\n",
       "      <td>2.130186</td>\n",
       "    </tr>\n",
       "    <tr>\n",
       "      <th>value_eur</th>\n",
       "      <td>1.061395</td>\n",
       "      <td>1.009846</td>\n",
       "      <td>5.226536</td>\n",
       "      <td>1.029177</td>\n",
       "      <td>1.027888</td>\n",
       "    </tr>\n",
       "    <tr>\n",
       "      <th>age</th>\n",
       "      <td>9.148148</td>\n",
       "      <td>3.592593</td>\n",
       "      <td>4.333333</td>\n",
       "      <td>5.444444</td>\n",
       "      <td>1.740741</td>\n",
       "    </tr>\n",
       "  </tbody>\n",
       "</table>\n",
       "</div>"
      ],
      "text/plain": [
       "                  0         1         2         3         4\n",
       "overall    5.347826  2.304348  4.478261  4.478261  6.000000\n",
       "potential  4.913043  8.391304  7.956522  4.695652  5.130435\n",
       "wage_eur   1.007153  1.987124  1.157368  1.042918  2.130186\n",
       "value_eur  1.061395  1.009846  5.226536  1.029177  1.027888\n",
       "age        9.148148  3.592593  4.333333  5.444444  1.740741"
      ]
     },
     "execution_count": 13,
     "metadata": {},
     "output_type": "execute_result"
    }
   ],
   "source": [
    "centroids"
   ]
  },
  {
   "cell_type": "code",
   "execution_count": 14,
   "id": "a85b5a9e-6e48-4766-afc2-9bd6df47ba74",
   "metadata": {},
   "outputs": [],
   "source": [
    "def get_labels(data, centroids):\n",
    "    distances = centroids.apply(lambda x: np.sqrt(((data - x) ** 2).sum(axis=1)))\n",
    "    return distances.idxmin(axis=1)"
   ]
  },
  {
   "cell_type": "code",
   "execution_count": 15,
   "id": "4353fdf3-ecf4-4c8e-b9b0-34da935e4ff7",
   "metadata": {},
   "outputs": [],
   "source": [
    "labels = get_labels(data, centroids)"
   ]
  },
  {
   "cell_type": "code",
   "execution_count": 16,
   "id": "7672a771-13fe-4271-9465-ae4fd8919e65",
   "metadata": {},
   "outputs": [
    {
     "data": {
      "text/plain": [
       "3    10798\n",
       "4     5118\n",
       "0     1532\n",
       "1     1354\n",
       "2      363\n",
       "dtype: int64"
      ]
     },
     "execution_count": 16,
     "metadata": {},
     "output_type": "execute_result"
    }
   ],
   "source": [
    "labels.value_counts()"
   ]
  },
  {
   "cell_type": "code",
   "execution_count": 17,
   "id": "0ab469ee-15a2-4ead-bc8c-9529f18b3611",
   "metadata": {},
   "outputs": [],
   "source": [
    "def new_centroids(data, labels, k):\n",
    "    centroids = data.groupby(labels).apply(lambda x: np.exp(np.log(x).mean())).T\n",
    "    return centroids"
   ]
  },
  {
   "cell_type": "code",
   "execution_count": 18,
   "id": "13b77284-906c-4a40-9aca-29e589f7dce5",
   "metadata": {},
   "outputs": [],
   "source": [
    "from sklearn.decomposition import PCA\n",
    "import matplotlib.pyplot as plt\n",
    "from IPython.display import clear_output"
   ]
  },
  {
   "cell_type": "code",
   "execution_count": 19,
   "id": "06b39a57-729f-4678-bed6-b51ae63f9303",
   "metadata": {},
   "outputs": [],
   "source": [
    "def plot_clusters(data, labels, centroids, iteration):\n",
    "    pca = PCA(n_components=2)\n",
    "    data_2d = pca.fit_transform(data)\n",
    "    centroids_2d = pca.transform(centroids.T)\n",
    "    clear_output(wait=True)\n",
    "    plt.title(f'Iteration {iteration}')\n",
    "    plt.scatter(x=data_2d[:,0], y=data_2d[:,1], c=labels)\n",
    "    plt.scatter(x=centroids_2d[:,0], y=centroids_2d[:,1])\n",
    "    plt.show()"
   ]
  },
  {
   "cell_type": "code",
   "execution_count": 27,
   "id": "b9c30ce1-bc6e-493a-81e1-804debd69cf2",
   "metadata": {},
   "outputs": [
    {
     "data": {
      "image/png": "[encoded data removed]",
      "text/plain": [
       "<Figure size 432x288 with 1 Axes>"
      ]
     },
     "metadata": {
      "needs_background": "light"
     },
     "output_type": "display_data"
    }
   ],
   "source": [
    "max_iterations = 100\n",
    "centroid_count = 3\n",
    "\n",
    "centroids = random_centroids(data, centroid_count)\n",
    "old_centroids = pd.DataFrame()\n",
    "iteration = 1\n",
    "\n",
    "while iteration < max_iterations and not centroids.equals(old_centroids):\n",
    "    old_centroids = centroids\n",
    "    \n",
    "    labels = get_labels(data, centroids)\n",
    "    centroids = new_centroids(data, labels, centroid_count)\n",
    "    plot_clusters(data, labels, centroids, iteration)\n",
    "    iteration += 1"
   ]
  },
  {
   "cell_type": "code",
   "execution_count": 21,
   "id": "8d232fe8-32c2-42b5-9158-9be76d8864a6",
   "metadata": {},
   "outputs": [
    {
     "data": {
      "text/html": [
       "<div>\n",
       "<style scoped>\n",
       "    .dataframe tbody tr th:only-of-type {\n",
       "        vertical-align: middle;\n",
       "    }\n",
       "\n",
       "    .dataframe tbody tr th {\n",
       "        vertical-align: top;\n",
       "    }\n",
       "\n",
       "    .dataframe thead th {\n",
       "        text-align: right;\n",
       "    }\n",
       "</style>\n",
       "<table border=\"1\" class=\"dataframe\">\n",
       "  <thead>\n",
       "    <tr style=\"text-align: right;\">\n",
       "      <th></th>\n",
       "      <th>0</th>\n",
       "      <th>1</th>\n",
       "      <th>2</th>\n",
       "    </tr>\n",
       "  </thead>\n",
       "  <tbody>\n",
       "    <tr>\n",
       "      <th>overall</th>\n",
       "      <td>3.436536</td>\n",
       "      <td>6.324628</td>\n",
       "      <td>5.200636</td>\n",
       "    </tr>\n",
       "    <tr>\n",
       "      <th>potential</th>\n",
       "      <td>5.357557</td>\n",
       "      <td>7.100439</td>\n",
       "      <td>4.894208</td>\n",
       "    </tr>\n",
       "    <tr>\n",
       "      <th>wage_eur</th>\n",
       "      <td>1.031374</td>\n",
       "      <td>1.456630</td>\n",
       "      <td>1.130961</td>\n",
       "    </tr>\n",
       "    <tr>\n",
       "      <th>value_eur</th>\n",
       "      <td>1.029343</td>\n",
       "      <td>1.311183</td>\n",
       "      <td>1.049892</td>\n",
       "    </tr>\n",
       "    <tr>\n",
       "      <th>age</th>\n",
       "      <td>2.674807</td>\n",
       "      <td>3.874397</td>\n",
       "      <td>5.963956</td>\n",
       "    </tr>\n",
       "  </tbody>\n",
       "</table>\n",
       "</div>"
      ],
      "text/plain": [
       "                  0         1         2\n",
       "overall    3.436536  6.324628  5.200636\n",
       "potential  5.357557  7.100439  4.894208\n",
       "wage_eur   1.031374  1.456630  1.130961\n",
       "value_eur  1.029343  1.311183  1.049892\n",
       "age        2.674807  3.874397  5.963956"
      ]
     },
     "execution_count": 21,
     "metadata": {},
     "output_type": "execute_result"
    }
   ],
   "source": [
    "centroids"
   ]
  },
  {
   "cell_type": "code",
   "execution_count": 22,
   "id": "913c221b-a10d-4aa0-97ef-7b74f043629d",
   "metadata": {},
   "outputs": [
    {
     "data": {
      "text/plain": [
       "2    7188\n",
       "0    6162\n",
       "1    5815\n",
       "dtype: int64"
      ]
     },
     "execution_count": 22,
     "metadata": {},
     "output_type": "execute_result"
    }
   ],
   "source": [
    "labels.value_counts()"
   ]
  },
  {
   "cell_type": "code",
   "execution_count": 23,
   "id": "7214ee2d-c6a7-421c-b30d-05e86f580015",
   "metadata": {},
   "outputs": [
    {
     "data": {
      "text/html": [
       "<div>\n",
       "<style scoped>\n",
       "    .dataframe tbody tr th:only-of-type {\n",
       "        vertical-align: middle;\n",
       "    }\n",
       "\n",
       "    .dataframe tbody tr th {\n",
       "        vertical-align: top;\n",
       "    }\n",
       "\n",
       "    .dataframe thead th {\n",
       "        text-align: right;\n",
       "    }\n",
       "</style>\n",
       "<table border=\"1\" class=\"dataframe\">\n",
       "  <thead>\n",
       "    <tr style=\"text-align: right;\">\n",
       "      <th></th>\n",
       "      <th>short_name</th>\n",
       "      <th>overall</th>\n",
       "      <th>potential</th>\n",
       "      <th>wage_eur</th>\n",
       "      <th>value_eur</th>\n",
       "      <th>age</th>\n",
       "    </tr>\n",
       "  </thead>\n",
       "  <tbody>\n",
       "    <tr>\n",
       "      <th>7025</th>\n",
       "      <td>Sandeiro Leal</td>\n",
       "      <td>68</td>\n",
       "      <td>68</td>\n",
       "      <td>7000.0</td>\n",
       "      <td>1400000.0</td>\n",
       "      <td>21</td>\n",
       "    </tr>\n",
       "    <tr>\n",
       "      <th>8028</th>\n",
       "      <td>Narcisso Mau</td>\n",
       "      <td>67</td>\n",
       "      <td>67</td>\n",
       "      <td>4000.0</td>\n",
       "      <td>1100000.0</td>\n",
       "      <td>21</td>\n",
       "    </tr>\n",
       "    <tr>\n",
       "      <th>8029</th>\n",
       "      <td>Botelhinonsa</td>\n",
       "      <td>67</td>\n",
       "      <td>67</td>\n",
       "      <td>4000.0</td>\n",
       "      <td>1100000.0</td>\n",
       "      <td>21</td>\n",
       "    </tr>\n",
       "    <tr>\n",
       "      <th>8030</th>\n",
       "      <td>Edenildo Lagoas</td>\n",
       "      <td>67</td>\n",
       "      <td>67</td>\n",
       "      <td>3000.0</td>\n",
       "      <td>1100000.0</td>\n",
       "      <td>21</td>\n",
       "    </tr>\n",
       "    <tr>\n",
       "      <th>8040</th>\n",
       "      <td>Dener Rolim</td>\n",
       "      <td>67</td>\n",
       "      <td>67</td>\n",
       "      <td>4000.0</td>\n",
       "      <td>1200000.0</td>\n",
       "      <td>21</td>\n",
       "    </tr>\n",
       "    <tr>\n",
       "      <th>...</th>\n",
       "      <td>...</td>\n",
       "      <td>...</td>\n",
       "      <td>...</td>\n",
       "      <td>...</td>\n",
       "      <td>...</td>\n",
       "      <td>...</td>\n",
       "    </tr>\n",
       "    <tr>\n",
       "      <th>19234</th>\n",
       "      <td>Song Defu</td>\n",
       "      <td>47</td>\n",
       "      <td>52</td>\n",
       "      <td>1000.0</td>\n",
       "      <td>70000.0</td>\n",
       "      <td>22</td>\n",
       "    </tr>\n",
       "    <tr>\n",
       "      <th>19235</th>\n",
       "      <td>C. Porter</td>\n",
       "      <td>47</td>\n",
       "      <td>59</td>\n",
       "      <td>500.0</td>\n",
       "      <td>110000.0</td>\n",
       "      <td>19</td>\n",
       "    </tr>\n",
       "    <tr>\n",
       "      <th>19236</th>\n",
       "      <td>N. Logue</td>\n",
       "      <td>47</td>\n",
       "      <td>55</td>\n",
       "      <td>500.0</td>\n",
       "      <td>100000.0</td>\n",
       "      <td>21</td>\n",
       "    </tr>\n",
       "    <tr>\n",
       "      <th>19237</th>\n",
       "      <td>L. Rudden</td>\n",
       "      <td>47</td>\n",
       "      <td>60</td>\n",
       "      <td>500.0</td>\n",
       "      <td>110000.0</td>\n",
       "      <td>19</td>\n",
       "    </tr>\n",
       "    <tr>\n",
       "      <th>19238</th>\n",
       "      <td>E. Lalchhanchhuaha</td>\n",
       "      <td>47</td>\n",
       "      <td>60</td>\n",
       "      <td>500.0</td>\n",
       "      <td>110000.0</td>\n",
       "      <td>19</td>\n",
       "    </tr>\n",
       "  </tbody>\n",
       "</table>\n",
       "<p>6162 rows × 6 columns</p>\n",
       "</div>"
      ],
      "text/plain": [
       "               short_name  overall  potential  wage_eur  value_eur  age\n",
       "7025        Sandeiro Leal       68         68    7000.0  1400000.0   21\n",
       "8028         Narcisso Mau       67         67    4000.0  1100000.0   21\n",
       "8029         Botelhinonsa       67         67    4000.0  1100000.0   21\n",
       "8030      Edenildo Lagoas       67         67    3000.0  1100000.0   21\n",
       "8040          Dener Rolim       67         67    4000.0  1200000.0   21\n",
       "...                   ...      ...        ...       ...        ...  ...\n",
       "19234           Song Defu       47         52    1000.0    70000.0   22\n",
       "19235           C. Porter       47         59     500.0   110000.0   19\n",
       "19236            N. Logue       47         55     500.0   100000.0   21\n",
       "19237           L. Rudden       47         60     500.0   110000.0   19\n",
       "19238  E. Lalchhanchhuaha       47         60     500.0   110000.0   19\n",
       "\n",
       "[6162 rows x 6 columns]"
      ]
     },
     "execution_count": 23,
     "metadata": {},
     "output_type": "execute_result"
    }
   ],
   "source": [
    "players[labels == 0][[\"short_name\"] + features]"
   ]
  },
  {
   "cell_type": "code",
   "execution_count": 24,
   "id": "5181181a-d296-4a23-bf25-94dd10afde0b",
   "metadata": {},
   "outputs": [],
   "source": [
    "from sklearn.cluster import KMeans"
   ]
  },
  {
   "cell_type": "code",
   "execution_count": 25,
   "id": "46f953d6-ea66-4b40-8844-3de99c7813f2",
   "metadata": {},
   "outputs": [
    {
     "data": {
      "text/plain": [
       "KMeans(n_clusters=3)"
      ]
     },
     "execution_count": 25,
     "metadata": {},
     "output_type": "execute_result"
    }
   ],
   "source": [
    "kmeans = KMeans(3)\n",
    "kmeans.fit(data)"
   ]
  },
  {
   "cell_type": "code",
   "execution_count": 26,
   "id": "3c113e55-8b5e-4acf-8563-7bc281117891",
   "metadata": {},
   "outputs": [
    {
     "data": {
      "text/html": [
       "<div>\n",
       "<style scoped>\n",
       "    .dataframe tbody tr th:only-of-type {\n",
       "        vertical-align: middle;\n",
       "    }\n",
       "\n",
       "    .dataframe tbody tr th {\n",
       "        vertical-align: top;\n",
       "    }\n",
       "\n",
       "    .dataframe thead th {\n",
       "        text-align: right;\n",
       "    }\n",
       "</style>\n",
       "<table border=\"1\" class=\"dataframe\">\n",
       "  <thead>\n",
       "    <tr style=\"text-align: right;\">\n",
       "      <th></th>\n",
       "      <th>0</th>\n",
       "      <th>1</th>\n",
       "      <th>2</th>\n",
       "    </tr>\n",
       "  </thead>\n",
       "  <tbody>\n",
       "    <tr>\n",
       "      <th>overall</th>\n",
       "      <td>3.889183</td>\n",
       "      <td>6.812994</td>\n",
       "      <td>5.224122</td>\n",
       "    </tr>\n",
       "    <tr>\n",
       "      <th>potential</th>\n",
       "      <td>5.673063</td>\n",
       "      <td>7.249728</td>\n",
       "      <td>4.894068</td>\n",
       "    </tr>\n",
       "    <tr>\n",
       "      <th>wage_eur</th>\n",
       "      <td>1.044399</td>\n",
       "      <td>1.730402</td>\n",
       "      <td>1.125708</td>\n",
       "    </tr>\n",
       "    <tr>\n",
       "      <th>value_eur</th>\n",
       "      <td>1.039777</td>\n",
       "      <td>1.460008</td>\n",
       "      <td>1.044505</td>\n",
       "    </tr>\n",
       "    <tr>\n",
       "      <th>age</th>\n",
       "      <td>2.903154</td>\n",
       "      <td>4.487757</td>\n",
       "      <td>6.121655</td>\n",
       "    </tr>\n",
       "  </tbody>\n",
       "</table>\n",
       "</div>"
      ],
      "text/plain": [
       "                  0         1         2\n",
       "overall    3.889183  6.812994  5.224122\n",
       "potential  5.673063  7.249728  4.894068\n",
       "wage_eur   1.044399  1.730402  1.125708\n",
       "value_eur  1.039777  1.460008  1.044505\n",
       "age        2.903154  4.487757  6.121655"
      ]
     },
     "execution_count": 26,
     "metadata": {},
     "output_type": "execute_result"
    }
   ],
   "source": [
    "pd.DataFrame(kmeans.cluster_centers_, columns=features).T"
   ]
  },
  {
   "cell_type": "code",
   "execution_count": null,
   "id": "72c8963d-f17b-4e70-86b2-2341914424c0",
   "metadata": {},
   "outputs": [],
   "source": []
  }
 ],
 "metadata": {
  "kernelspec": {
   "display_name": "Python 3 (ipykernel)",
   "language": "python",
   "name": "python3"
  },
  "language_info": {
   "codemirror_mode": {
    "name": "ipython",
    "version": 3
   },
   "file_extension": ".py",
   "mimetype": "text/x-python",
   "name": "python",
   "nbconvert_exporter": "python",
   "pygments_lexer": "ipython3",
   "version": "3.9.13"
  }
 },
 "nbformat": 4,
 "nbformat_minor": 5
}
